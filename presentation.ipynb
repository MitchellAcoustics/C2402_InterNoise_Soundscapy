{
  "cells": [
    {
      "cell_type": "markdown",
      "metadata": {},
      "source": [
        "---\n",
        "title: \"Soundscapy\"\n",
        "subtitle: \"A Python Package for Soundscape Assessment and Analysis\"\n",
        "author: \n",
        "  - name: \"Andrew Mitchell\"\n",
        "    orcid: 0000-0003-0978-5046\n",
        "    email: a.j.mitchell@ucl.ac.uk\n",
        "    affiliation: Bartlett School of Sustainable Construction\n",
        "institute: \"University College London\"\n",
        "format:\n",
        "  clean-revealjs: default\n",
        "  # revealjs:\n",
        "  #   theme: simple\n",
        "  #   transition: slide\n",
        "  #   slide-number: true\n",
        "  #   preview-links: auto\n",
        "  #   logo: images/LightLogoSmall.png\n",
        "  #   footer: \"INTER-NOISE 2024\"\n",
        "  #   css: custom.css\n",
        "html-math-method: \n",
        "  method: mathjax\n",
        "  url: \"https://cdn.jsdelivr.net/npm/mathjax@3/es5/tex-mml-chtml.js\"\n",
        "date: 2024-08-26\n",
        "bibliography: FellowshipRefs-biblatex.bib\n",
        "execute:\n",
        "  echo: true\n",
        "  freeze: auto\n",
        "  keep-ipynb: true\n",
        "---"
      ]
    },
    {
      "cell_type": "code",
      "execution_count": 1,
      "metadata": {},
      "outputs": [],
      "source": [
        "#| echo: false\n",
        "import matplotlib.pyplot as plt\n",
        "import pandas as pd\n",
        "from pathlib import Path\n",
        "import warnings\n",
        "\n",
        "warnings.simplefilter(\"ignore\")"
      ]
    },
    {
      "cell_type": "markdown",
      "metadata": {},
      "source": [
        "## Introduction {.smaller}\n",
        "\n",
        "::: {.columns}\n",
        "::: {.column width=\"50%\"}\n",
        "- Soundscape: holistic approach to acoustic environments\n",
        "- ISO 12913 series (since 2018) provides standardized framework\n",
        "- Challenges in consistent application of standards\n",
        "\n",
        "::: {.fragment}\n",
        "Soundscapy addresses these challenges:\n",
        "\n",
        "- Open-source Python package\n",
        "- Aligns with ISO 12913-3 guidelines\n",
        "- Facilitates consistent, reproducible analysis\n",
        ":::\n",
        "\n",
        ":::\n",
        "::: {.column width=\"50%\"}\n",
        "![ISO 12913-3 recommendations for soundscape analysis](images/ISO12913-3-screenshot.png)\n",
        ":::\n",
        ":::\n",
        "\n",
        "\n",
        "\n",
        "::: {.notes}\n",
        "Introduce the concept of soundscape and its holistic approach.\n",
        "Mention the ISO 12913 series and its role in standardizing soundscape assessment.\n",
        "Highlight the challenges in applying these standards consistently.\n",
        "Introduce Soundscapy as a solution to these challenges.\n",
        ":::\n",
        "\n",
        "## Soundscapy: Origins and Purpose {.smaller}\n",
        "\n",
        "::: {.columns}\n",
        "::: {.column width=\"60%\"}\n",
        "- Developed during the Soundscape Indices (SSID) project\n",
        "- Built on the SSID Protocol for data collection\n",
        "- Utilizes the International Soundscape Database (ISD)\n",
        "\n",
        "::: {.fragment}\n",
        "- Key features:\n",
        "  - Visualization using distributional methods\n",
        "  - Psychoacoustic and acoustic analysis of binaural data\n",
        "  - Optimized for large-scale data processing\n",
        ":::\n",
        "\n",
        "::: {.fragment}\n",
        "### Simple to install\n",
        "```bash\n",
        "pip install soundscapy\n",
        "```"
      ]
    },
    {
      "cell_type": "code",
      "execution_count": 2,
      "metadata": {},
      "outputs": [],
      "source": [
        "import soundscapy as sspy"
      ]
    },
    {
      "cell_type": "markdown",
      "metadata": {},
      "source": [
        ":::\n",
        ":::\n",
        "::: {.column width=\"40%\"}\n",
        "![Soundscapy Logo](images/LightLogo.png){.r-stretch}\n",
        ":::\n",
        ":::\n",
        "\n",
        "\n",
        "\n",
        "::: {.notes}\n",
        "Explain the origins of Soundscapy in the SSID project.\n",
        "Highlight its connection to the SSID Protocol and the ISD.\n",
        "Briefly introduce the key features, emphasizing its capabilities in visualization and data processing.\n",
        ":::\n",
        "\n",
        "## Soundscape Circumplex Model {.smaller}\n",
        "\n",
        "::: {.columns}\n",
        "::: {.column width=\"40%\"}\n",
        "- Proposed by @Axelsson2010principal\n",
        "- Two orthogonal dimensions:\n",
        "  - Pleasant-Annoying (x-axis)\n",
        "  - Eventful-Uneventful (y-axis)\n",
        "- Eight perceptual scales\n",
        "- Adopted in ISO/TS 12913-2\n",
        ":::\n",
        "::: {.column width=\"60%\"}"
      ]
    },
    {
      "cell_type": "code",
      "execution_count": 3,
      "metadata": {},
      "outputs": [],
      "source": [
        "#| echo: false\n",
        "sample_transform = {\n",
        "    \"RecordID\": [\"EX1\", \"EX2\"],\n",
        "    \"pleasant\": [4, 2],\n",
        "    \"vibrant\": [4, 3],\n",
        "    \"eventful\": [4, 5],\n",
        "    \"chaotic\": [2, 5],\n",
        "    \"annoying\": [1, 5],\n",
        "    \"monotonous\": [3, 5],\n",
        "    \"uneventful\": [3, 3],\n",
        "    \"calm\": [4, 1],\n",
        "}\n",
        "sample_transform = pd.DataFrame().from_dict(sample_transform)\n",
        "sample_transform = sample_transform.set_index(\"RecordID\")"
      ]
    },
    {
      "cell_type": "code",
      "execution_count": 4,
      "metadata": {},
      "outputs": [
        {
          "data": {
            "text/plain": [
              "<PolarAxes: >"
            ]
          },
          "execution_count": 4,
          "metadata": {},
          "output_type": "execute_result"
        },
        {
          "data": {
            "image/png": "[encoded data removed]",
            "text/plain": [
              "<Figure size 640x480 with 1 Axes>"
            ]
          },
          "metadata": {},
          "output_type": "display_data"
        }
      ],
      "source": [
        "from soundscapy.plotting import likert\n",
        "likert.paq_radar_plot(sample_transform)"
      ]
    },
    {
      "cell_type": "markdown",
      "metadata": {},
      "source": [
        ":::\n",
        ":::\n",
        "\n",
        "::: {.notes}\n",
        "Explain the Soundscape Circumplex Model in more detail.\n",
        "Highlight its importance in standardizing soundscape assessment.\n",
        "Mention its adoption in ISO/TS 12913-2 and its widespread use in research.\n",
        ":::\n",
        "\n",
        "## ISO Coordinates Calculation {.smaller}\n",
        "\n",
        "::: {.columns}\n",
        "\n",
        "::: {.column width=\"50%\"}\n",
        "- Implements equations from ISO 12913-3\n",
        "- Transforms 8 PAQ responses into 2D coordinates\n",
        "- Flexible input ranges (e.g., 1-5, 0-100)\n",
        "- Supports different angle configurations\n",
        "\n",
        "$$\n",
        "P_{ISO} = \\frac{1}{\\lambda_{Pl}} \\sum_{i=1}^{8} \\cos{\\theta_i} \\cdot \\sigma_i\n",
        "$$ {#eq-isopl}\n",
        "\n",
        "$$\n",
        "E_{ISO} = \\frac{1}{\\lambda_{Pl}} \\sum_{i=1}^{8} \\sin{\\theta_i} \\cdot \\sigma_i\n",
        "$$ {#eq-isoev}\n",
        "\n",
        ":::\n",
        "\n",
        "::: {.column width=\"50%\"}"
      ]
    },
    {
      "cell_type": "code",
      "execution_count": 5,
      "metadata": {},
      "outputs": [],
      "source": [
        "# Load data from the ISD\n",
        "data = sspy.isd.load()\n",
        "\n",
        "# Apply built-in data quality checks\n",
        "data, excl_data = sspy.isd.validate(data, allow_paq_na=False)\n",
        "\n",
        "# Calculate the ISO Coordinates\n",
        "data = sspy.surveys.add_iso_coords(data)"
      ]
    },
    {
      "cell_type": "code",
      "execution_count": 6,
      "metadata": {},
      "outputs": [
        {
          "data": {
            "text/html": [
              "<div>\n",
              "<style scoped>\n",
              "    .dataframe tbody tr th:only-of-type {\n",
              "        vertical-align: middle;\n",
              "    }\n",
              "\n",
              "    .dataframe tbody tr th {\n",
              "        vertical-align: top;\n",
              "    }\n",
              "\n",
              "    .dataframe thead th {\n",
              "        text-align: right;\n",
              "    }\n",
              "</style>\n",
              "<table border=\"1\" class=\"dataframe\">\n",
              "  <thead>\n",
              "    <tr style=\"text-align: right;\">\n",
              "      <th></th>\n",
              "      <th>PAQ1</th>\n",
              "      <th>PAQ2</th>\n",
              "      <th>PAQ3</th>\n",
              "      <th>PAQ4</th>\n",
              "      <th>PAQ5</th>\n",
              "      <th>PAQ6</th>\n",
              "      <th>PAQ7</th>\n",
              "      <th>PAQ8</th>\n",
              "      <th>ISOPleasant</th>\n",
              "      <th>ISOEventful</th>\n",
              "    </tr>\n",
              "  </thead>\n",
              "  <tbody>\n",
              "    <tr>\n",
              "      <th>0</th>\n",
              "      <td>2.0</td>\n",
              "      <td>4.0</td>\n",
              "      <td>2.0</td>\n",
              "      <td>1.0</td>\n",
              "      <td>2.0</td>\n",
              "      <td>2.0</td>\n",
              "      <td>4.0</td>\n",
              "      <td>2.0</td>\n",
              "      <td>0.219670</td>\n",
              "      <td>-0.133883</td>\n",
              "    </tr>\n",
              "    <tr>\n",
              "      <th>1</th>\n",
              "      <td>2.0</td>\n",
              "      <td>4.0</td>\n",
              "      <td>4.0</td>\n",
              "      <td>4.0</td>\n",
              "      <td>4.0</td>\n",
              "      <td>4.0</td>\n",
              "      <td>1.0</td>\n",
              "      <td>1.0</td>\n",
              "      <td>-0.426777</td>\n",
              "      <td>0.530330</td>\n",
              "    </tr>\n",
              "    <tr>\n",
              "      <th>2</th>\n",
              "      <td>5.0</td>\n",
              "      <td>3.0</td>\n",
              "      <td>3.0</td>\n",
              "      <td>1.0</td>\n",
              "      <td>2.0</td>\n",
              "      <td>1.0</td>\n",
              "      <td>3.0</td>\n",
              "      <td>4.0</td>\n",
              "      <td>0.676777</td>\n",
              "      <td>-0.073223</td>\n",
              "    </tr>\n",
              "    <tr>\n",
              "      <th>3</th>\n",
              "      <td>5.0</td>\n",
              "      <td>3.0</td>\n",
              "      <td>3.0</td>\n",
              "      <td>1.0</td>\n",
              "      <td>2.0</td>\n",
              "      <td>2.0</td>\n",
              "      <td>3.0</td>\n",
              "      <td>4.0</td>\n",
              "      <td>0.603553</td>\n",
              "      <td>-0.146447</td>\n",
              "    </tr>\n",
              "    <tr>\n",
              "      <th>4</th>\n",
              "      <td>5.0</td>\n",
              "      <td>3.0</td>\n",
              "      <td>3.0</td>\n",
              "      <td>2.0</td>\n",
              "      <td>2.0</td>\n",
              "      <td>3.0</td>\n",
              "      <td>3.0</td>\n",
              "      <td>4.0</td>\n",
              "      <td>0.457107</td>\n",
              "      <td>-0.146447</td>\n",
              "    </tr>\n",
              "  </tbody>\n",
              "</table>\n",
              "</div>"
            ],
            "text/plain": [
              "   PAQ1  PAQ2  PAQ3  PAQ4  PAQ5  PAQ6  PAQ7  PAQ8  ISOPleasant  ISOEventful\n",
              "0   2.0   4.0   2.0   1.0   2.0   2.0   4.0   2.0     0.219670    -0.133883\n",
              "1   2.0   4.0   4.0   4.0   4.0   4.0   1.0   1.0    -0.426777     0.530330\n",
              "2   5.0   3.0   3.0   1.0   2.0   1.0   3.0   4.0     0.676777    -0.073223\n",
              "3   5.0   3.0   3.0   1.0   2.0   2.0   3.0   4.0     0.603553    -0.146447\n",
              "4   5.0   3.0   3.0   2.0   2.0   3.0   3.0   4.0     0.457107    -0.146447"
            ]
          },
          "execution_count": 6,
          "metadata": {},
          "output_type": "execute_result"
        }
      ],
      "source": [
        "#| echo: false\n",
        "view_data = sspy.surveys.return_paqs(data, incl_ids = False, other_cols = ['ISOPleasant', 'ISOEventful'])\n",
        "view_data.head(5)"
      ]
    },
    {
      "cell_type": "markdown",
      "metadata": {},
      "source": [
        ":::\n",
        "\n",
        ":::\n",
        "\n",
        "::: {.notes}\n",
        "Explain the purpose and functionality of the `calculate_iso_coords` function.\n",
        "Highlight its alignment with ISO 12913-3 equations.\n",
        "Emphasize its flexibility in handling different input ranges and angle configurations.\n",
        "Mention how this function is central to Soundscapy's analysis capabilities.\n",
        ":::\n",
        "\n",
        "## Distribution-based Analysis {.smaller}\n",
        "\n",
        "::: {.columns}\n",
        "::: {.column width=\"50%\"}\n",
        "- Developed by @Mitchell2022How\n",
        "- Represents the collective perception of a soundscape as a distribution, using kernel density estimation\n",
        "- Provides far richer insight than point estimates\n",
        ":::\n",
        "::: {.column width=\"50%\"}\n",
        "\n",
        "::: {.r-stack}\n",
        "::: {.fragment}"
      ]
    },
    {
      "cell_type": "code",
      "execution_count": 7,
      "metadata": {},
      "outputs": [
        {
          "data": {
            "text/plain": [
              "<Axes: title={'center': 'Camden Town Soundscape Distribution'}, xlabel='ISOPleasant', ylabel='ISOEventful'>"
            ]
          },
          "execution_count": 7,
          "metadata": {},
          "output_type": "execute_result"
        },
        {
          "data": {
            "image/png": "[encoded data removed]",
            "text/plain": [
              "<Figure size 500x500 with 1 Axes>"
            ]
          },
          "metadata": {},
          "output_type": "display_data"
        }
      ],
      "source": [
        "#| code-line-numbers: \"|1|2|3,4,5\"\n",
        "sspy.plotting.density_plot(\n",
        "  sspy.isd.select_location_ids(data, \"CamdenTown\"),\n",
        "  title=\"Camden Town Soundscape Distribution\",\n",
        "  hue=\"LocationID\",\n",
        "  incl_scatter=True\n",
        ")"
      ]
    },
    {
      "cell_type": "markdown",
      "metadata": {},
      "source": [
        ":::\n",
        "\n",
        "::: {.fragment}"
      ]
    },
    {
      "cell_type": "code",
      "execution_count": 8,
      "metadata": {},
      "outputs": [
        {
          "data": {
            "text/plain": [
              "<Axes: title={'center': 'Comparison between two soundscapes'}, xlabel='ISOPleasant', ylabel='ISOEventful'>"
            ]
          },
          "execution_count": 8,
          "metadata": {},
          "output_type": "execute_result"
        },
        {
          "data": {
            "image/png": "[encoded data removed]",
            "text/plain": [
              "<Figure size 500x500 with 1 Axes>"
            ]
          },
          "metadata": {},
          "output_type": "display_data"
        }
      ],
      "source": [
        "#| code-line-numbers: \"2,7\"\n",
        "sspy.plotting.density_plot(\n",
        "  sspy.isd.select_location_ids(data, (\"CamdenTown\", \"PancrasLock\")),\n",
        "  title = \"Comparison between two soundscapes\",\n",
        "  hue = \"LocationID\",\n",
        "  incl_scatter=True,\n",
        "  incl_outline=True,\n",
        "  simple_density=True,\n",
        ")"
      ]
    },
    {
      "cell_type": "markdown",
      "metadata": {},
      "source": [
        ":::\n",
        "\n",
        "::: {.fragment}"
      ]
    },
    {
      "cell_type": "code",
      "execution_count": 9,
      "metadata": {},
      "outputs": [
        {
          "name": "stderr",
          "output_type": "stream",
          "text": [
            "/Users/mitch/Library/CloudStorage/OneDrive-UniversityCollegeLondon/_Fellowship/Papers - Drafts/C2402_InterNoise_Soundscapy/.venv/lib/python3.11/site-packages/soundscapy/plotting/backends.py:246: UserWarning: PlotlyBackend is very experimental and not fully implemented.\n",
            "  warnings.warn(\n"
          ]
        },
        {
          "data": {
            "application/vnd.plotly.v1+json": {
              "config": {
                "plotlyServerURL": "https://plot.ly"
              },
              "data": [
                {
                  "hovertemplate": "ISOPleasant=%{x}<br>ISOEventful=%{y}<extra></extra>",
                  "legendgroup": "",
                  "marker": {
                    "color": "#636efa",
                    "symbol": "circle"
                  },
                  "mode": "markers",
                  "name": "",
                  "orientation": "v",
                  "showlegend": false,
                  "type": "scatter",
                  "x": [
                    1,
                    0.9267766952966369,
                    0.13388347648318433,
                    0.10355339059327368,
                    0.24999999999999992,
                    0.24999999999999992,
                    0.9267766952966369,
                    0.28033008588991065,
                    0.04289321881345233,
                    0.5303300858899105,
                    0.9267766952966369,
                    0.9267766952966369,
                    0.9267766952966369,
                    0.17677669529663675,
                    0.7803300858899105,
                    0.8964466094067263,
                    0.6035533905932736,
                    0.6035533905932737,
                    0.8535533905932737,
                    0.48743686707645795,
                    0.6035533905932736,
                    0.9267766952966369,
                    0.5303300858899106,
                    0.5606601717798212,
                    0.5303300858899106,
                    1,
                    0.7071067811865475,
                    0.8535533905932738,
                    0.823223304703363,
                    0.6338834764831843,
                    0.3535533905932737,
                    0.7071067811865474,
                    0.6767766952966369,
                    0.7071067811865475,
                    -0.2928932188134526,
                    0.7803300858899106,
                    0.8535533905932737,
                    0.7071067811865475,
                    -0.0428932188134526,
                    -0.03033008588991079,
                    0.5303300858899106,
                    0.8535533905932737,
                    1,
                    0.9267766952966369,
                    0.7499999999999999,
                    0.6338834764831843,
                    0.8535533905932737,
                    0.7071067811865475,
                    0.6035533905932736,
                    0.7071067811865474,
                    0.8535533905932737,
                    0.8535533905932737,
                    0.6338834764831843,
                    0.823223304703363,
                    0.573223304703363,
                    0.9267766952966369,
                    0.9267766952966369,
                    0.9267766952966369,
                    0.7803300858899106,
                    0.6338834764831843,
                    -0.7803300858899109,
                    0.6338834764831843,
                    0.6338834764831843,
                    0.7071067811865476,
                    0.6035533905932737,
                    0.8535533905932737,
                    0.5606601717798211,
                    0.7071067811865475,
                    0.49999999999999983,
                    0.6767766952966369,
                    1,
                    0.5303300858899106,
                    0.8535533905932737,
                    0.6767766952966368,
                    0.9267766952966369,
                    0.9267766952966369,
                    0.6767766952966368,
                    0.8535533905932737,
                    0.45710678118654746,
                    0.45710678118654746,
                    0.5606601717798212,
                    0.45710678118654746,
                    0.7803300858899105,
                    0.7803300858899107,
                    0.9267766952966369,
                    0.24999999999999992,
                    0.7803300858899106,
                    0.823223304703363,
                    0.9267766952966369,
                    1,
                    1
                  ],
                  "xaxis": "x",
                  "y": [
                    0.3106601717798213,
                    0.23743686707645814,
                    0.13388347648318455,
                    -9.197388681172371e-17,
                    0,
                    0.10355339059327377,
                    -0.07322330470336316,
                    0.6338834764831844,
                    -0.1893398282201789,
                    0.13388347648318427,
                    0.030330085889910513,
                    0.23743686707645814,
                    -0.03033008588991079,
                    -0.2196699141100894,
                    -0.07322330470336316,
                    0.20710678118654754,
                    0.16421356237309498,
                    0.10355339059327358,
                    0.4142135623730951,
                    -0.5125631329235418,
                    -0.2071067811865477,
                    0.030330085889910607,
                    0.17677669529663675,
                    -0.14644660940672632,
                    -0.15900974233026818,
                    0.4142135623730951,
                    0.14644660940672613,
                    0.06066017177982121,
                    0.23743686707645814,
                    0.030330085889910423,
                    0.14644660940672624,
                    0.20710678118654735,
                    -0.01256313292354195,
                    -0.14644660940672632,
                    0.10355339059327368,
                    0.2803300858899107,
                    0.20710678118654754,
                    -0.20710678118654754,
                    -0.3106601717798213,
                    0.07322330470336307,
                    0.07322330470336307,
                    -0.14644660940672632,
                    0.3106601717798213,
                    -0.2803300858899107,
                    -0.14644660940672632,
                    0.42677669529663687,
                    -0.14644660940672632,
                    -0.39644660940672644,
                    -0.1464466094067264,
                    0.060660171779821026,
                    0.10355339059327358,
                    -0.3106601717798213,
                    -0.2196699141100895,
                    0.17677669529663692,
                    0.23743686707645814,
                    -0.2803300858899107,
                    -0.38388347648318444,
                    -0.07322330470336316,
                    -0.21966991411008943,
                    0.09099025766973182,
                    -0.6338834764831843,
                    -0.36611652351681573,
                    -0.5732233047033634,
                    0.12132034355964261,
                    -0.6035533905932738,
                    -0.2500000000000001,
                    -0.5000000000000002,
                    0.060660171779821304,
                    0.04289321881345246,
                    0.030330085889910607,
                    0.20710678118654743,
                    -0.42677669529663703,
                    0.20710678118654735,
                    0.17677669529663684,
                    -0.07322330470336316,
                    0.13388347648318438,
                    0.030330085889910607,
                    0.20710678118654743,
                    -0.04289321881345256,
                    -9.197388681172371e-17,
                    -0.14644660940672632,
                    0,
                    -0.5303300858899108,
                    0.5303300858899106,
                    0.13388347648318438,
                    0,
                    -0.2196699141100895,
                    -0.07322330470336316,
                    0.13388347648318438,
                    0.4142135623730951,
                    0.20710678118654743
                  ],
                  "yaxis": "y"
                }
              ],
              "layout": {
                "height": 600,
                "legend": {
                  "tracegroupgap": 0
                },
                "template": {
                  "data": {
                    "bar": [
                      {
                        "error_x": {
                          "color": "#2a3f5f"
                        },
                        "error_y": {
                          "color": "#2a3f5f"
                        },
                        "marker": {
                          "line": {
                            "color": "#E5ECF6",
                            "width": 0.5
                          },
                          "pattern": {
                            "fillmode": "overlay",
                            "size": 10,
                            "solidity": 0.2
                          }
                        },
                        "type": "bar"
                      }
                    ],
                    "barpolar": [
                      {
                        "marker": {
                          "line": {
                            "color": "#E5ECF6",
                            "width": 0.5
                          },
                          "pattern": {
                            "fillmode": "overlay",
                            "size": 10,
                            "solidity": 0.2
                          }
                        },
                        "type": "barpolar"
                      }
                    ],
                    "carpet": [
                      {
                        "aaxis": {
                          "endlinecolor": "#2a3f5f",
                          "gridcolor": "white",
                          "linecolor": "white",
                          "minorgridcolor": "white",
                          "startlinecolor": "#2a3f5f"
                        },
                        "baxis": {
                          "endlinecolor": "#2a3f5f",
                          "gridcolor": "white",
                          "linecolor": "white",
                          "minorgridcolor": "white",
                          "startlinecolor": "#2a3f5f"
                        },
                        "type": "carpet"
                      }
                    ],
                    "choropleth": [
                      {
                        "colorbar": {
                          "outlinewidth": 0,
                          "ticks": ""
                        },
                        "type": "choropleth"
                      }
                    ],
                    "contour": [
                      {
                        "colorbar": {
                          "outlinewidth": 0,
                          "ticks": ""
                        },
                        "colorscale": [
                          [
                            0,
                            "#0d0887"
                          ],
                          [
                            0.1111111111111111,
                            "#46039f"
                          ],
                          [
                            0.2222222222222222,
                            "#7201a8"
                          ],
                          [
                            0.3333333333333333,
                            "#9c179e"
                          ],
                          [
                            0.4444444444444444,
                            "#bd3786"
                          ],
                          [
                            0.5555555555555556,
                            "#d8576b"
                          ],
                          [
                            0.6666666666666666,
                            "#ed7953"
                          ],
                          [
                            0.7777777777777778,
                            "#fb9f3a"
                          ],
                          [
                            0.8888888888888888,
                            "#fdca26"
                          ],
                          [
                            1,
                            "#f0f921"
                          ]
                        ],
                        "type": "contour"
                      }
                    ],
                    "contourcarpet": [
                      {
                        "colorbar": {
                          "outlinewidth": 0,
                          "ticks": ""
                        },
                        "type": "contourcarpet"
                      }
                    ],
                    "heatmap": [
                      {
                        "colorbar": {
                          "outlinewidth": 0,
                          "ticks": ""
                        },
                        "colorscale": [
                          [
                            0,
                            "#0d0887"
                          ],
                          [
                            0.1111111111111111,
                            "#46039f"
                          ],
                          [
                            0.2222222222222222,
                            "#7201a8"
                          ],
                          [
                            0.3333333333333333,
                            "#9c179e"
                          ],
                          [
                            0.4444444444444444,
                            "#bd3786"
                          ],
                          [
                            0.5555555555555556,
                            "#d8576b"
                          ],
                          [
                            0.6666666666666666,
                            "#ed7953"
                          ],
                          [
                            0.7777777777777778,
                            "#fb9f3a"
                          ],
                          [
                            0.8888888888888888,
                            "#fdca26"
                          ],
                          [
                            1,
                            "#f0f921"
                          ]
                        ],
                        "type": "heatmap"
                      }
                    ],
                    "heatmapgl": [
                      {
                        "colorbar": {
                          "outlinewidth": 0,
                          "ticks": ""
                        },
                        "colorscale": [
                          [
                            0,
                            "#0d0887"
                          ],
                          [
                            0.1111111111111111,
                            "#46039f"
                          ],
                          [
                            0.2222222222222222,
                            "#7201a8"
                          ],
                          [
                            0.3333333333333333,
                            "#9c179e"
                          ],
                          [
                            0.4444444444444444,
                            "#bd3786"
                          ],
                          [
                            0.5555555555555556,
                            "#d8576b"
                          ],
                          [
                            0.6666666666666666,
                            "#ed7953"
                          ],
                          [
                            0.7777777777777778,
                            "#fb9f3a"
                          ],
                          [
                            0.8888888888888888,
                            "#fdca26"
                          ],
                          [
                            1,
                            "#f0f921"
                          ]
                        ],
                        "type": "heatmapgl"
                      }
                    ],
                    "histogram": [
                      {
                        "marker": {
                          "pattern": {
                            "fillmode": "overlay",
                            "size": 10,
                            "solidity": 0.2
                          }
                        },
                        "type": "histogram"
                      }
                    ],
                    "histogram2d": [
                      {
                        "colorbar": {
                          "outlinewidth": 0,
                          "ticks": ""
                        },
                        "colorscale": [
                          [
                            0,
                            "#0d0887"
                          ],
                          [
                            0.1111111111111111,
                            "#46039f"
                          ],
                          [
                            0.2222222222222222,
                            "#7201a8"
                          ],
                          [
                            0.3333333333333333,
                            "#9c179e"
                          ],
                          [
                            0.4444444444444444,
                            "#bd3786"
                          ],
                          [
                            0.5555555555555556,
                            "#d8576b"
                          ],
                          [
                            0.6666666666666666,
                            "#ed7953"
                          ],
                          [
                            0.7777777777777778,
                            "#fb9f3a"
                          ],
                          [
                            0.8888888888888888,
                            "#fdca26"
                          ],
                          [
                            1,
                            "#f0f921"
                          ]
                        ],
                        "type": "histogram2d"
                      }
                    ],
                    "histogram2dcontour": [
                      {
                        "colorbar": {
                          "outlinewidth": 0,
                          "ticks": ""
                        },
                        "colorscale": [
                          [
                            0,
                            "#0d0887"
                          ],
                          [
                            0.1111111111111111,
                            "#46039f"
                          ],
                          [
                            0.2222222222222222,
                            "#7201a8"
                          ],
                          [
                            0.3333333333333333,
                            "#9c179e"
                          ],
                          [
                            0.4444444444444444,
                            "#bd3786"
                          ],
                          [
                            0.5555555555555556,
                            "#d8576b"
                          ],
                          [
                            0.6666666666666666,
                            "#ed7953"
                          ],
                          [
                            0.7777777777777778,
                            "#fb9f3a"
                          ],
                          [
                            0.8888888888888888,
                            "#fdca26"
                          ],
                          [
                            1,
                            "#f0f921"
                          ]
                        ],
                        "type": "histogram2dcontour"
                      }
                    ],
                    "mesh3d": [
                      {
                        "colorbar": {
                          "outlinewidth": 0,
                          "ticks": ""
                        },
                        "type": "mesh3d"
                      }
                    ],
                    "parcoords": [
                      {
                        "line": {
                          "colorbar": {
                            "outlinewidth": 0,
                            "ticks": ""
                          }
                        },
                        "type": "parcoords"
                      }
                    ],
                    "pie": [
                      {
                        "automargin": true,
                        "type": "pie"
                      }
                    ],
                    "scatter": [
                      {
                        "fillpattern": {
                          "fillmode": "overlay",
                          "size": 10,
                          "solidity": 0.2
                        },
                        "type": "scatter"
                      }
                    ],
                    "scatter3d": [
                      {
                        "line": {
                          "colorbar": {
                            "outlinewidth": 0,
                            "ticks": ""
                          }
                        },
                        "marker": {
                          "colorbar": {
                            "outlinewidth": 0,
                            "ticks": ""
                          }
                        },
                        "type": "scatter3d"
                      }
                    ],
                    "scattercarpet": [
                      {
                        "marker": {
                          "colorbar": {
                            "outlinewidth": 0,
                            "ticks": ""
                          }
                        },
                        "type": "scattercarpet"
                      }
                    ],
                    "scattergeo": [
                      {
                        "marker": {
                          "colorbar": {
                            "outlinewidth": 0,
                            "ticks": ""
                          }
                        },
                        "type": "scattergeo"
                      }
                    ],
                    "scattergl": [
                      {
                        "marker": {
                          "colorbar": {
                            "outlinewidth": 0,
                            "ticks": ""
                          }
                        },
                        "type": "scattergl"
                      }
                    ],
                    "scattermapbox": [
                      {
                        "marker": {
                          "colorbar": {
                            "outlinewidth": 0,
                            "ticks": ""
                          }
                        },
                        "type": "scattermapbox"
                      }
                    ],
                    "scatterpolar": [
                      {
                        "marker": {
                          "colorbar": {
                            "outlinewidth": 0,
                            "ticks": ""
                          }
                        },
                        "type": "scatterpolar"
                      }
                    ],
                    "scatterpolargl": [
                      {
                        "marker": {
                          "colorbar": {
                            "outlinewidth": 0,
                            "ticks": ""
                          }
                        },
                        "type": "scatterpolargl"
                      }
                    ],
                    "scatterternary": [
                      {
                        "marker": {
                          "colorbar": {
                            "outlinewidth": 0,
                            "ticks": ""
                          }
                        },
                        "type": "scatterternary"
                      }
                    ],
                    "surface": [
                      {
                        "colorbar": {
                          "outlinewidth": 0,
                          "ticks": ""
                        },
                        "colorscale": [
                          [
                            0,
                            "#0d0887"
                          ],
                          [
                            0.1111111111111111,
                            "#46039f"
                          ],
                          [
                            0.2222222222222222,
                            "#7201a8"
                          ],
                          [
                            0.3333333333333333,
                            "#9c179e"
                          ],
                          [
                            0.4444444444444444,
                            "#bd3786"
                          ],
                          [
                            0.5555555555555556,
                            "#d8576b"
                          ],
                          [
                            0.6666666666666666,
                            "#ed7953"
                          ],
                          [
                            0.7777777777777778,
                            "#fb9f3a"
                          ],
                          [
                            0.8888888888888888,
                            "#fdca26"
                          ],
                          [
                            1,
                            "#f0f921"
                          ]
                        ],
                        "type": "surface"
                      }
                    ],
                    "table": [
                      {
                        "cells": {
                          "fill": {
                            "color": "#EBF0F8"
                          },
                          "line": {
                            "color": "white"
                          }
                        },
                        "header": {
                          "fill": {
                            "color": "#C8D4E3"
                          },
                          "line": {
                            "color": "white"
                          }
                        },
                        "type": "table"
                      }
                    ]
                  },
                  "layout": {
                    "annotationdefaults": {
                      "arrowcolor": "#2a3f5f",
                      "arrowhead": 0,
                      "arrowwidth": 1
                    },
                    "autotypenumbers": "strict",
                    "coloraxis": {
                      "colorbar": {
                        "outlinewidth": 0,
                        "ticks": ""
                      }
                    },
                    "colorscale": {
                      "diverging": [
                        [
                          0,
                          "#8e0152"
                        ],
                        [
                          0.1,
                          "#c51b7d"
                        ],
                        [
                          0.2,
                          "#de77ae"
                        ],
                        [
                          0.3,
                          "#f1b6da"
                        ],
                        [
                          0.4,
                          "#fde0ef"
                        ],
                        [
                          0.5,
                          "#f7f7f7"
                        ],
                        [
                          0.6,
                          "#e6f5d0"
                        ],
                        [
                          0.7,
                          "#b8e186"
                        ],
                        [
                          0.8,
                          "#7fbc41"
                        ],
                        [
                          0.9,
                          "#4d9221"
                        ],
                        [
                          1,
                          "#276419"
                        ]
                      ],
                      "sequential": [
                        [
                          0,
                          "#0d0887"
                        ],
                        [
                          0.1111111111111111,
                          "#46039f"
                        ],
                        [
                          0.2222222222222222,
                          "#7201a8"
                        ],
                        [
                          0.3333333333333333,
                          "#9c179e"
                        ],
                        [
                          0.4444444444444444,
                          "#bd3786"
                        ],
                        [
                          0.5555555555555556,
                          "#d8576b"
                        ],
                        [
                          0.6666666666666666,
                          "#ed7953"
                        ],
                        [
                          0.7777777777777778,
                          "#fb9f3a"
                        ],
                        [
                          0.8888888888888888,
                          "#fdca26"
                        ],
                        [
                          1,
                          "#f0f921"
                        ]
                      ],
                      "sequentialminus": [
                        [
                          0,
                          "#0d0887"
                        ],
                        [
                          0.1111111111111111,
                          "#46039f"
                        ],
                        [
                          0.2222222222222222,
                          "#7201a8"
                        ],
                        [
                          0.3333333333333333,
                          "#9c179e"
                        ],
                        [
                          0.4444444444444444,
                          "#bd3786"
                        ],
                        [
                          0.5555555555555556,
                          "#d8576b"
                        ],
                        [
                          0.6666666666666666,
                          "#ed7953"
                        ],
                        [
                          0.7777777777777778,
                          "#fb9f3a"
                        ],
                        [
                          0.8888888888888888,
                          "#fdca26"
                        ],
                        [
                          1,
                          "#f0f921"
                        ]
                      ]
                    },
                    "colorway": [
                      "#636efa",
                      "#EF553B",
                      "#00cc96",
                      "#ab63fa",
                      "#FFA15A",
                      "#19d3f3",
                      "#FF6692",
                      "#B6E880",
                      "#FF97FF",
                      "#FECB52"
                    ],
                    "font": {
                      "color": "#2a3f5f"
                    },
                    "geo": {
                      "bgcolor": "white",
                      "lakecolor": "white",
                      "landcolor": "#E5ECF6",
                      "showlakes": true,
                      "showland": true,
                      "subunitcolor": "white"
                    },
                    "hoverlabel": {
                      "align": "left"
                    },
                    "hovermode": "closest",
                    "mapbox": {
                      "style": "light"
                    },
                    "paper_bgcolor": "white",
                    "plot_bgcolor": "#E5ECF6",
                    "polar": {
                      "angularaxis": {
                        "gridcolor": "white",
                        "linecolor": "white",
                        "ticks": ""
                      },
                      "bgcolor": "#E5ECF6",
                      "radialaxis": {
                        "gridcolor": "white",
                        "linecolor": "white",
                        "ticks": ""
                      }
                    },
                    "scene": {
                      "xaxis": {
                        "backgroundcolor": "#E5ECF6",
                        "gridcolor": "white",
                        "gridwidth": 2,
                        "linecolor": "white",
                        "showbackground": true,
                        "ticks": "",
                        "zerolinecolor": "white"
                      },
                      "yaxis": {
                        "backgroundcolor": "#E5ECF6",
                        "gridcolor": "white",
                        "gridwidth": 2,
                        "linecolor": "white",
                        "showbackground": true,
                        "ticks": "",
                        "zerolinecolor": "white"
                      },
                      "zaxis": {
                        "backgroundcolor": "#E5ECF6",
                        "gridcolor": "white",
                        "gridwidth": 2,
                        "linecolor": "white",
                        "showbackground": true,
                        "ticks": "",
                        "zerolinecolor": "white"
                      }
                    },
                    "shapedefaults": {
                      "line": {
                        "color": "#2a3f5f"
                      }
                    },
                    "ternary": {
                      "aaxis": {
                        "gridcolor": "white",
                        "linecolor": "white",
                        "ticks": ""
                      },
                      "baxis": {
                        "gridcolor": "white",
                        "linecolor": "white",
                        "ticks": ""
                      },
                      "bgcolor": "#E5ECF6",
                      "caxis": {
                        "gridcolor": "white",
                        "linecolor": "white",
                        "ticks": ""
                      }
                    },
                    "title": {
                      "x": 0.05
                    },
                    "xaxis": {
                      "automargin": true,
                      "gridcolor": "white",
                      "linecolor": "white",
                      "ticks": "",
                      "title": {
                        "standoff": 15
                      },
                      "zerolinecolor": "white",
                      "zerolinewidth": 2
                    },
                    "yaxis": {
                      "automargin": true,
                      "gridcolor": "white",
                      "linecolor": "white",
                      "ticks": "",
                      "title": {
                        "standoff": 15
                      },
                      "zerolinecolor": "white",
                      "zerolinewidth": 2
                    }
                  }
                },
                "title": {
                  "text": "Regents Park Japanese Garden Soundscape"
                },
                "width": 600,
                "xaxis": {
                  "anchor": "y",
                  "domain": [
                    0,
                    1
                  ],
                  "range": [
                    -1,
                    1
                  ],
                  "scaleanchor": "y",
                  "scaleratio": 1,
                  "title": {
                    "text": "ISOPleasant"
                  }
                },
                "yaxis": {
                  "anchor": "x",
                  "domain": [
                    0,
                    1
                  ],
                  "range": [
                    -1,
                    1
                  ],
                  "scaleanchor": "x",
                  "scaleratio": 1,
                  "title": {
                    "text": "ISOEventful"
                  }
                }
              }
            }
          },
          "metadata": {},
          "output_type": "display_data"
        }
      ],
      "source": [
        "from soundscapy.plotting import Backend\n",
        "import plotly.io as pio\n",
        "\n",
        "sspy.plotting.scatter_plot(\n",
        "  sspy.isd.select_location_ids(data, (\"RegentsParkJapan\")),\n",
        "  backend = Backend.PLOTLY,\n",
        "  title = \"Regents Park Japanese Garden Soundscape\",\n",
        ")"
      ]
    },
    {
      "cell_type": "markdown",
      "metadata": {},
      "source": [
        ":::\n",
        "\n",
        ":::\n",
        ":::\n",
        ":::\n",
        "\n",
        "::: {.notes}\n",
        "This distribution-based visualisation and analysis clearly shows three important\n",
        "characteristics of the soundscape perception of a group or location:\n",
        "1. The distribution across both pleasantness and eventfulness, including the central tendency, the\n",
        "dispersion, and any skewness in the response.\n",
        "2. The general shape of the soundscape within the circumplex space - in this case, Pancras Lock is\n",
        "mostly in the pleasant half, with a slight skew towards eventfulness.\n",
        "Proceedings of INTER-NOISE 2024\n",
        "3. The degree of agreement about the soundscape perception among the sample.\n",
        "In addition to these visualisations, Soundscapy provides functions for calculating some basic\n",
        "statistics about the distribution of responses, such as the mean, median, and standard deviation,\n",
        "as well as metrics inspired by reporting from noise annoyance studies, such as the percentage of\n",
        "respondents who rated the soundscape as ‘pleasant’ or ‘eventful’.\n",
        ":::\n",
        "\n",
        "## Databases Integration {.smaller}\n",
        "\n",
        "::: {.columns}\n",
        "::: {.column width=\"50%\"}\n",
        "- International Soundscape Database (ISD)\n",
        "  - 2,706 recordings\n",
        "  - 3,590 survey responses\n",
        "  - 6 cities across Europe and China\n",
        "- Soundscape Attributes Translation Project (SATP)\n",
        "  - 19,089 responses\n",
        "  - 708 participants\n",
        "  - 19 languages\n",
        "- ARAUS\n",
        "  - Currently under development\n",
        ":::\n",
        "::: {.column width=\"50%\"}"
      ]
    },
    {
      "cell_type": "code",
      "execution_count": 10,
      "metadata": {},
      "outputs": [
        {
          "name": "stdout",
          "output_type": "stream",
          "text": [
            "ISD shape: (3589, 142)\n",
            "SATP shape: (17441, 16)\n"
          ]
        }
      ],
      "source": [
        "# Load ISD data\n",
        "isd_data = sspy.isd.load()\n",
        "\n",
        "# Load SATP data\n",
        "import soundscapy.databases.satp as satp\n",
        "satp_data = satp.load_zenodo()\n",
        "\n",
        "print(f\"ISD shape: {isd_data.shape}\")\n",
        "print(f\"SATP shape: {satp_data.shape}\")"
      ]
    },
    {
      "cell_type": "markdown",
      "metadata": {},
      "source": [
        ":::\n",
        ":::\n",
        "\n",
        "::: {.notes}\n",
        "Explain the significance of the integrated databases.\n",
        "Highlight the ease of loading and working with these datasets in Soundscapy.\n",
        "Mention the potential for cross-cultural and multi-lingual soundscape studies.\n",
        ":::\n",
        "\n",
        "## Psychoacoustic Analysis {.smaller}\n",
        "\n",
        "::: {.columns}\n",
        "::: {.column width=\"50%\"}\n",
        "- Integration with multiple libraries:\n",
        "  - Python Acoustics\n",
        "  - scikit-maad\n",
        "  - MoSQITo\n",
        "- Wide range of metrics:\n",
        "  - SPL ($L_{Zeq}$, $L_{Aeq}$, $L_{Ceq}$)\n",
        "  - Loudness (N)\n",
        "  - Sharpness (S)\n",
        "  - Roughness (R)\n",
        "  - Many more...\n",
        ":::\n",
        "::: {.column width=\"50%\"}"
      ]
    },
    {
      "cell_type": "code",
      "execution_count": 11,
      "metadata": {},
      "outputs": [
        {
          "data": {
            "text/html": [
              "<div>\n",
              "<style scoped>\n",
              "    .dataframe tbody tr th:only-of-type {\n",
              "        vertical-align: middle;\n",
              "    }\n",
              "\n",
              "    .dataframe tbody tr th {\n",
              "        vertical-align: top;\n",
              "    }\n",
              "\n",
              "    .dataframe thead th {\n",
              "        text-align: right;\n",
              "    }\n",
              "</style>\n",
              "<table border=\"1\" class=\"dataframe\">\n",
              "  <thead>\n",
              "    <tr style=\"text-align: right;\">\n",
              "      <th></th>\n",
              "      <th></th>\n",
              "      <th>N_5</th>\n",
              "      <th>N_50</th>\n",
              "      <th>N_avg</th>\n",
              "      <th>N_max</th>\n",
              "    </tr>\n",
              "    <tr>\n",
              "      <th>Recording</th>\n",
              "      <th>Channel</th>\n",
              "      <th></th>\n",
              "      <th></th>\n",
              "      <th></th>\n",
              "      <th></th>\n",
              "    </tr>\n",
              "  </thead>\n",
              "  <tbody>\n",
              "    <tr>\n",
              "      <th rowspan=\"2\" valign=\"top\">CT101</th>\n",
              "      <th>Left</th>\n",
              "      <td>28.85</td>\n",
              "      <td>23.18</td>\n",
              "      <td>22.69</td>\n",
              "      <td>36.19</td>\n",
              "    </tr>\n",
              "    <tr>\n",
              "      <th>Right</th>\n",
              "      <td>30.84</td>\n",
              "      <td>23.94</td>\n",
              "      <td>23.78</td>\n",
              "      <td>37.77</td>\n",
              "    </tr>\n",
              "  </tbody>\n",
              "</table>\n",
              "</div>"
            ],
            "text/plain": [
              "                     N_5   N_50  N_avg  N_max\n",
              "Recording Channel                            \n",
              "CT101     Left     28.85  23.18  22.69  36.19\n",
              "          Right    30.84  23.94  23.78  37.77"
            ]
          },
          "execution_count": 11,
          "metadata": {},
          "output_type": "execute_result"
        }
      ],
      "source": [
        "from soundscapy.audio.analysis_settings import MetricSettings\n",
        "from soundscapy.audio import Binaural\n",
        "\n",
        "b = Binaural.from_wav(\"data/CT101.wav\")\n",
        "\n",
        "loudness_settings = MetricSettings(\n",
        "    run = True,\n",
        "    statistics = (5, 50, 'avg', 'max'),\n",
        "    func_args = {'field_type': 'free'},\n",
        "    label=\"N\",\n",
        ")\n",
        "\n",
        "b.mosqito_metric('loudness_zwtv', metric_settings=loudness_settings).round(2)"
      ]
    },
    {
      "cell_type": "markdown",
      "metadata": {},
      "source": [
        ":::\n",
        ":::\n",
        "\n",
        "::: {.notes}\n",
        "Highlight the comprehensive psychoacoustic analysis capabilities.\n",
        "Mention the integration with established libraries.\n",
        "Emphasize the simplicity of performing complex analyses.\n",
        "Discuss the importance of these metrics in soundscape assessment.\n",
        ":::\n",
        "\n",
        "## Batch Processing and Performance {.smaller}\n",
        "\n",
        "::: {.columns}\n",
        "\n",
        "::: {.column width=\"50%\"}"
      ]
    },
    {
      "cell_type": "code",
      "execution_count": 12,
      "metadata": {},
      "outputs": [],
      "source": [
        "#| echo: false\n",
        "import time\n",
        "\n",
        "start = time.perf_counter()"
      ]
    },
    {
      "cell_type": "code",
      "execution_count": 13,
      "metadata": {},
      "outputs": [
        {
          "data": {
            "application/vnd.jupyter.widget-view+json": {
              "model_id": "fda11295968143a285a55e153a1b0fbd",
              "version_major": 2,
              "version_minor": 0
            },
            "text/plain": [
              "Analyzing files:   0%|          | 0/20 [00:00<?, ?it/s]"
            ]
          },
          "metadata": {},
          "output_type": "display_data"
        },
        {
          "name": "stderr",
          "output_type": "stream",
          "text": [
            "/Users/mitch/Library/CloudStorage/OneDrive-UniversityCollegeLondon/_Fellowship/Papers - Drafts/C2402_InterNoise_Soundscapy/.venv/lib/python3.11/site-packages/acoustics/_signal.py:175: DeprecationWarning: __array_wrap__ must accept context and return_scalar arguments (positionally) in the future. (Deprecated NumPy 2.0)\n",
            "  self *= factor\n",
            "/Users/mitch/Library/CloudStorage/OneDrive-UniversityCollegeLondon/_Fellowship/Papers - Drafts/C2402_InterNoise_Soundscapy/.venv/lib/python3.11/site-packages/acoustics/_signal.py:175: DeprecationWarning: __array_wrap__ must accept context and return_scalar arguments (positionally) in the future. (Deprecated NumPy 2.0)\n",
            "  self *= factor\n",
            "/Users/mitch/Library/CloudStorage/OneDrive-UniversityCollegeLondon/_Fellowship/Papers - Drafts/C2402_InterNoise_Soundscapy/.venv/lib/python3.11/site-packages/acoustics/_signal.py:175: DeprecationWarning: __array_wrap__ must accept context and return_scalar arguments (positionally) in the future. (Deprecated NumPy 2.0)\n",
            "  self *= factor\n",
            "/Users/mitch/Library/CloudStorage/OneDrive-UniversityCollegeLondon/_Fellowship/Papers - Drafts/C2402_InterNoise_Soundscapy/.venv/lib/python3.11/site-packages/acoustics/_signal.py:175: DeprecationWarning: __array_wrap__ must accept context and return_scalar arguments (positionally) in the future. (Deprecated NumPy 2.0)\n",
            "  self *= factor\n",
            "/Users/mitch/Library/CloudStorage/OneDrive-UniversityCollegeLondon/_Fellowship/Papers - Drafts/C2402_InterNoise_Soundscapy/.venv/lib/python3.11/site-packages/acoustics/_signal.py:175: DeprecationWarning: __array_wrap__ must accept context and return_scalar arguments (positionally) in the future. (Deprecated NumPy 2.0)\n",
            "  self *= factor\n",
            "/Users/mitch/Library/CloudStorage/OneDrive-UniversityCollegeLondon/_Fellowship/Papers - Drafts/C2402_InterNoise_Soundscapy/.venv/lib/python3.11/site-packages/acoustics/_signal.py:175: DeprecationWarning: __array_wrap__ must accept context and return_scalar arguments (positionally) in the future. (Deprecated NumPy 2.0)\n",
            "  self *= factor\n",
            "/Users/mitch/Library/CloudStorage/OneDrive-UniversityCollegeLondon/_Fellowship/Papers - Drafts/C2402_InterNoise_Soundscapy/.venv/lib/python3.11/site-packages/acoustics/_signal.py:175: DeprecationWarning: __array_wrap__ must accept context and return_scalar arguments (positionally) in the future. (Deprecated NumPy 2.0)\n",
            "  self *= factor\n",
            "/Users/mitch/Library/CloudStorage/OneDrive-UniversityCollegeLondon/_Fellowship/Papers - Drafts/C2402_InterNoise_Soundscapy/.venv/lib/python3.11/site-packages/acoustics/_signal.py:175: DeprecationWarning: __array_wrap__ must accept context and return_scalar arguments (positionally) in the future. (Deprecated NumPy 2.0)\n",
            "  self *= factor\n",
            "/Users/mitch/Library/CloudStorage/OneDrive-UniversityCollegeLondon/_Fellowship/Papers - Drafts/C2402_InterNoise_Soundscapy/.venv/lib/python3.11/site-packages/acoustics/_signal.py:175: DeprecationWarning: __array_wrap__ must accept context and return_scalar arguments (positionally) in the future. (Deprecated NumPy 2.0)\n",
            "  self *= factor\n",
            "/Users/mitch/Library/CloudStorage/OneDrive-UniversityCollegeLondon/_Fellowship/Papers - Drafts/C2402_InterNoise_Soundscapy/.venv/lib/python3.11/site-packages/acoustics/_signal.py:175: DeprecationWarning: __array_wrap__ must accept context and return_scalar arguments (positionally) in the future. (Deprecated NumPy 2.0)\n",
            "  self *= factor\n",
            "/Users/mitch/Library/CloudStorage/OneDrive-UniversityCollegeLondon/_Fellowship/Papers - Drafts/C2402_InterNoise_Soundscapy/.venv/lib/python3.11/site-packages/acoustics/_signal.py:175: DeprecationWarning: __array_wrap__ must accept context and return_scalar arguments (positionally) in the future. (Deprecated NumPy 2.0)\n",
            "  self *= factor\n",
            "/Users/mitch/Library/CloudStorage/OneDrive-UniversityCollegeLondon/_Fellowship/Papers - Drafts/C2402_InterNoise_Soundscapy/.venv/lib/python3.11/site-packages/acoustics/_signal.py:175: DeprecationWarning: __array_wrap__ must accept context and return_scalar arguments (positionally) in the future. (Deprecated NumPy 2.0)\n",
            "  self *= factor\n",
            "/Users/mitch/Library/CloudStorage/OneDrive-UniversityCollegeLondon/_Fellowship/Papers - Drafts/C2402_InterNoise_Soundscapy/.venv/lib/python3.11/site-packages/acoustics/standards/iso_tr_25417_2007.py:110: DeprecationWarning: __array_wrap__ must accept context and return_scalar arguments (positionally) in the future. (Deprecated NumPy 2.0)\n",
            "  return (pressure**2.0 / fs).sum(axis=axis)\n",
            "/Users/mitch/Library/CloudStorage/OneDrive-UniversityCollegeLondon/_Fellowship/Papers - Drafts/C2402_InterNoise_Soundscapy/.venv/lib/python3.11/site-packages/numpy/_core/_methods.py:52: DeprecationWarning: __array_wrap__ must accept context and return_scalar arguments (positionally) in the future. (Deprecated NumPy 2.0)\n",
            "  return umr_sum(a, axis, dtype, out, keepdims, initial, where)\n",
            "/Users/mitch/Library/CloudStorage/OneDrive-UniversityCollegeLondon/_Fellowship/Papers - Drafts/C2402_InterNoise_Soundscapy/.venv/lib/python3.11/site-packages/acoustics/standards/iso_tr_25417_2007.py:125: DeprecationWarning: __array_wrap__ must accept context and return_scalar arguments (positionally) in the future. (Deprecated NumPy 2.0)\n",
            "  return 10.0 * np.log10(sound_exposure(pressure, fs, axis=axis) / reference_sound_exposure)\n",
            "/Users/mitch/Library/CloudStorage/OneDrive-UniversityCollegeLondon/_Fellowship/Papers - Drafts/C2402_InterNoise_Soundscapy/.venv/lib/python3.11/site-packages/acoustics/standards/iso_tr_25417_2007.py:110: DeprecationWarning: __array_wrap__ must accept context and return_scalar arguments (positionally) in the future. (Deprecated NumPy 2.0)\n",
            "  return (pressure**2.0 / fs).sum(axis=axis)\n",
            "/Users/mitch/Library/CloudStorage/OneDrive-UniversityCollegeLondon/_Fellowship/Papers - Drafts/C2402_InterNoise_Soundscapy/.venv/lib/python3.11/site-packages/numpy/_core/_methods.py:52: DeprecationWarning: __array_wrap__ must accept context and return_scalar arguments (positionally) in the future. (Deprecated NumPy 2.0)\n",
            "  return umr_sum(a, axis, dtype, out, keepdims, initial, where)\n",
            "/Users/mitch/Library/CloudStorage/OneDrive-UniversityCollegeLondon/_Fellowship/Papers - Drafts/C2402_InterNoise_Soundscapy/.venv/lib/python3.11/site-packages/acoustics/standards/iso_tr_25417_2007.py:125: DeprecationWarning: __array_wrap__ must accept context and return_scalar arguments (positionally) in the future. (Deprecated NumPy 2.0)\n",
            "  return 10.0 * np.log10(sound_exposure(pressure, fs, axis=axis) / reference_sound_exposure)\n",
            "/Users/mitch/Library/CloudStorage/OneDrive-UniversityCollegeLondon/_Fellowship/Papers - Drafts/C2402_InterNoise_Soundscapy/.venv/lib/python3.11/site-packages/acoustics/standards/iso_tr_25417_2007.py:110: DeprecationWarning: __array_wrap__ must accept context and return_scalar arguments (positionally) in the future. (Deprecated NumPy 2.0)\n",
            "  return (pressure**2.0 / fs).sum(axis=axis)\n",
            "/Users/mitch/Library/CloudStorage/OneDrive-UniversityCollegeLondon/_Fellowship/Papers - Drafts/C2402_InterNoise_Soundscapy/.venv/lib/python3.11/site-packages/numpy/_core/_methods.py:52: DeprecationWarning: __array_wrap__ must accept context and return_scalar arguments (positionally) in the future. (Deprecated NumPy 2.0)\n",
            "  return umr_sum(a, axis, dtype, out, keepdims, initial, where)\n",
            "/Users/mitch/Library/CloudStorage/OneDrive-UniversityCollegeLondon/_Fellowship/Papers - Drafts/C2402_InterNoise_Soundscapy/.venv/lib/python3.11/site-packages/acoustics/standards/iso_tr_25417_2007.py:125: DeprecationWarning: __array_wrap__ must accept context and return_scalar arguments (positionally) in the future. (Deprecated NumPy 2.0)\n",
            "  return 10.0 * np.log10(sound_exposure(pressure, fs, axis=axis) / reference_sound_exposure)\n",
            "/Users/mitch/Library/CloudStorage/OneDrive-UniversityCollegeLondon/_Fellowship/Papers - Drafts/C2402_InterNoise_Soundscapy/.venv/lib/python3.11/site-packages/acoustics/standards/iso_tr_25417_2007.py:110: DeprecationWarning: __array_wrap__ must accept context and return_scalar arguments (positionally) in the future. (Deprecated NumPy 2.0)\n",
            "  return (pressure**2.0 / fs).sum(axis=axis)\n",
            "/Users/mitch/Library/CloudStorage/OneDrive-UniversityCollegeLondon/_Fellowship/Papers - Drafts/C2402_InterNoise_Soundscapy/.venv/lib/python3.11/site-packages/numpy/_core/_methods.py:52: DeprecationWarning: __array_wrap__ must accept context and return_scalar arguments (positionally) in the future. (Deprecated NumPy 2.0)\n",
            "  return umr_sum(a, axis, dtype, out, keepdims, initial, where)\n",
            "/Users/mitch/Library/CloudStorage/OneDrive-UniversityCollegeLondon/_Fellowship/Papers - Drafts/C2402_InterNoise_Soundscapy/.venv/lib/python3.11/site-packages/acoustics/standards/iso_tr_25417_2007.py:125: DeprecationWarning: __array_wrap__ must accept context and return_scalar arguments (positionally) in the future. (Deprecated NumPy 2.0)\n",
            "  return 10.0 * np.log10(sound_exposure(pressure, fs, axis=axis) / reference_sound_exposure)\n",
            "/Users/mitch/Library/CloudStorage/OneDrive-UniversityCollegeLondon/_Fellowship/Papers - Drafts/C2402_InterNoise_Soundscapy/.venv/lib/python3.11/site-packages/acoustics/standards/iso_tr_25417_2007.py:110: DeprecationWarning: __array_wrap__ must accept context and return_scalar arguments (positionally) in the future. (Deprecated NumPy 2.0)\n",
            "  return (pressure**2.0 / fs).sum(axis=axis)\n",
            "/Users/mitch/Library/CloudStorage/OneDrive-UniversityCollegeLondon/_Fellowship/Papers - Drafts/C2402_InterNoise_Soundscapy/.venv/lib/python3.11/site-packages/numpy/_core/_methods.py:52: DeprecationWarning: __array_wrap__ must accept context and return_scalar arguments (positionally) in the future. (Deprecated NumPy 2.0)\n",
            "  return umr_sum(a, axis, dtype, out, keepdims, initial, where)\n",
            "/Users/mitch/Library/CloudStorage/OneDrive-UniversityCollegeLondon/_Fellowship/Papers - Drafts/C2402_InterNoise_Soundscapy/.venv/lib/python3.11/site-packages/acoustics/standards/iso_tr_25417_2007.py:125: DeprecationWarning: __array_wrap__ must accept context and return_scalar arguments (positionally) in the future. (Deprecated NumPy 2.0)\n",
            "  return 10.0 * np.log10(sound_exposure(pressure, fs, axis=axis) / reference_sound_exposure)\n",
            "/Users/mitch/Library/CloudStorage/OneDrive-UniversityCollegeLondon/_Fellowship/Papers - Drafts/C2402_InterNoise_Soundscapy/.venv/lib/python3.11/site-packages/acoustics/standards/iso_tr_25417_2007.py:110: DeprecationWarning: __array_wrap__ must accept context and return_scalar arguments (positionally) in the future. (Deprecated NumPy 2.0)\n",
            "  return (pressure**2.0 / fs).sum(axis=axis)\n",
            "/Users/mitch/Library/CloudStorage/OneDrive-UniversityCollegeLondon/_Fellowship/Papers - Drafts/C2402_InterNoise_Soundscapy/.venv/lib/python3.11/site-packages/numpy/_core/_methods.py:52: DeprecationWarning: __array_wrap__ must accept context and return_scalar arguments (positionally) in the future. (Deprecated NumPy 2.0)\n",
            "  return umr_sum(a, axis, dtype, out, keepdims, initial, where)\n",
            "/Users/mitch/Library/CloudStorage/OneDrive-UniversityCollegeLondon/_Fellowship/Papers - Drafts/C2402_InterNoise_Soundscapy/.venv/lib/python3.11/site-packages/acoustics/standards/iso_tr_25417_2007.py:125: DeprecationWarning: __array_wrap__ must accept context and return_scalar arguments (positionally) in the future. (Deprecated NumPy 2.0)\n",
            "  return 10.0 * np.log10(sound_exposure(pressure, fs, axis=axis) / reference_sound_exposure)\n",
            "/Users/mitch/Library/CloudStorage/OneDrive-UniversityCollegeLondon/_Fellowship/Papers - Drafts/C2402_InterNoise_Soundscapy/.venv/lib/python3.11/site-packages/acoustics/standards/iso_tr_25417_2007.py:110: DeprecationWarning: __array_wrap__ must accept context and return_scalar arguments (positionally) in the future. (Deprecated NumPy 2.0)\n",
            "  return (pressure**2.0 / fs).sum(axis=axis)\n",
            "/Users/mitch/Library/CloudStorage/OneDrive-UniversityCollegeLondon/_Fellowship/Papers - Drafts/C2402_InterNoise_Soundscapy/.venv/lib/python3.11/site-packages/numpy/_core/_methods.py:52: DeprecationWarning: __array_wrap__ must accept context and return_scalar arguments (positionally) in the future. (Deprecated NumPy 2.0)\n",
            "  return umr_sum(a, axis, dtype, out, keepdims, initial, where)\n",
            "/Users/mitch/Library/CloudStorage/OneDrive-UniversityCollegeLondon/_Fellowship/Papers - Drafts/C2402_InterNoise_Soundscapy/.venv/lib/python3.11/site-packages/acoustics/standards/iso_tr_25417_2007.py:125: DeprecationWarning: __array_wrap__ must accept context and return_scalar arguments (positionally) in the future. (Deprecated NumPy 2.0)\n",
            "  return 10.0 * np.log10(sound_exposure(pressure, fs, axis=axis) / reference_sound_exposure)\n",
            "/Users/mitch/Library/CloudStorage/OneDrive-UniversityCollegeLondon/_Fellowship/Papers - Drafts/C2402_InterNoise_Soundscapy/.venv/lib/python3.11/site-packages/acoustics/standards/iso_tr_25417_2007.py:110: DeprecationWarning: __array_wrap__ must accept context and return_scalar arguments (positionally) in the future. (Deprecated NumPy 2.0)\n",
            "  return (pressure**2.0 / fs).sum(axis=axis)\n",
            "/Users/mitch/Library/CloudStorage/OneDrive-UniversityCollegeLondon/_Fellowship/Papers - Drafts/C2402_InterNoise_Soundscapy/.venv/lib/python3.11/site-packages/numpy/_core/_methods.py:52: DeprecationWarning: __array_wrap__ must accept context and return_scalar arguments (positionally) in the future. (Deprecated NumPy 2.0)\n",
            "  return umr_sum(a, axis, dtype, out, keepdims, initial, where)\n",
            "/Users/mitch/Library/CloudStorage/OneDrive-UniversityCollegeLondon/_Fellowship/Papers - Drafts/C2402_InterNoise_Soundscapy/.venv/lib/python3.11/site-packages/acoustics/standards/iso_tr_25417_2007.py:125: DeprecationWarning: __array_wrap__ must accept context and return_scalar arguments (positionally) in the future. (Deprecated NumPy 2.0)\n",
            "  return 10.0 * np.log10(sound_exposure(pressure, fs, axis=axis) / reference_sound_exposure)\n",
            "/Users/mitch/Library/CloudStorage/OneDrive-UniversityCollegeLondon/_Fellowship/Papers - Drafts/C2402_InterNoise_Soundscapy/.venv/lib/python3.11/site-packages/acoustics/standards/iso_tr_25417_2007.py:110: DeprecationWarning: __array_wrap__ must accept context and return_scalar arguments (positionally) in the future. (Deprecated NumPy 2.0)\n",
            "  return (pressure**2.0 / fs).sum(axis=axis)\n",
            "/Users/mitch/Library/CloudStorage/OneDrive-UniversityCollegeLondon/_Fellowship/Papers - Drafts/C2402_InterNoise_Soundscapy/.venv/lib/python3.11/site-packages/numpy/_core/_methods.py:52: DeprecationWarning: __array_wrap__ must accept context and return_scalar arguments (positionally) in the future. (Deprecated NumPy 2.0)\n",
            "  return umr_sum(a, axis, dtype, out, keepdims, initial, where)\n",
            "/Users/mitch/Library/CloudStorage/OneDrive-UniversityCollegeLondon/_Fellowship/Papers - Drafts/C2402_InterNoise_Soundscapy/.venv/lib/python3.11/site-packages/acoustics/standards/iso_tr_25417_2007.py:125: DeprecationWarning: __array_wrap__ must accept context and return_scalar arguments (positionally) in the future. (Deprecated NumPy 2.0)\n",
            "  return 10.0 * np.log10(sound_exposure(pressure, fs, axis=axis) / reference_sound_exposure)\n",
            "/Users/mitch/Library/CloudStorage/OneDrive-UniversityCollegeLondon/_Fellowship/Papers - Drafts/C2402_InterNoise_Soundscapy/.venv/lib/python3.11/site-packages/acoustics/standards/iso_tr_25417_2007.py:110: DeprecationWarning: __array_wrap__ must accept context and return_scalar arguments (positionally) in the future. (Deprecated NumPy 2.0)\n",
            "  return (pressure**2.0 / fs).sum(axis=axis)\n",
            "/Users/mitch/Library/CloudStorage/OneDrive-UniversityCollegeLondon/_Fellowship/Papers - Drafts/C2402_InterNoise_Soundscapy/.venv/lib/python3.11/site-packages/numpy/_core/_methods.py:52: DeprecationWarning: __array_wrap__ must accept context and return_scalar arguments (positionally) in the future. (Deprecated NumPy 2.0)\n",
            "  return umr_sum(a, axis, dtype, out, keepdims, initial, where)\n",
            "/Users/mitch/Library/CloudStorage/OneDrive-UniversityCollegeLondon/_Fellowship/Papers - Drafts/C2402_InterNoise_Soundscapy/.venv/lib/python3.11/site-packages/acoustics/standards/iso_tr_25417_2007.py:125: DeprecationWarning: __array_wrap__ must accept context and return_scalar arguments (positionally) in the future. (Deprecated NumPy 2.0)\n",
            "  return 10.0 * np.log10(sound_exposure(pressure, fs, axis=axis) / reference_sound_exposure)\n",
            "/Users/mitch/Library/CloudStorage/OneDrive-UniversityCollegeLondon/_Fellowship/Papers - Drafts/C2402_InterNoise_Soundscapy/.venv/lib/python3.11/site-packages/acoustics/standards/iso_tr_25417_2007.py:110: DeprecationWarning: __array_wrap__ must accept context and return_scalar arguments (positionally) in the future. (Deprecated NumPy 2.0)\n",
            "  return (pressure**2.0 / fs).sum(axis=axis)\n"
          ]
        },
        {
          "name": "stdout",
          "output_type": "stream",
          "text": [
            "[Warning] Signal resampled to 48 kHz to allow calculation. To fulfill the standard requirements fs should be >=48 kHz.[Warning] Signal resampled to 48 kHz to allow calculation. To fulfill the standard requirements fs should be >=48 kHz.\n",
            "\n",
            "[Warning] Signal resampled to 48 kHz to allow calculation. To fulfill the standard requirements fs should be >=48 kHz.\n",
            "[Warning] Signal resampled to 48 kHz to allow calculation. To fulfill the standard requirements fs should be >=48 kHz.\n",
            "[Warning] Signal resampled to 48 kHz to allow calculation. To fulfill the standard requirements fs should be >=48 kHz.[Warning] Signal resampled to 48 kHz to allow calculation. To fulfill the standard requirements fs should be >=48 kHz.\n",
            "\n",
            "[Warning] Signal resampled to 48 kHz to allow calculation. To fulfill the standard requirements fs should be >=48 kHz.\n",
            "[Warning] Signal resampled to 48 kHz to allow calculation. To fulfill the standard requirements fs should be >=48 kHz.\n",
            "[Warning] Signal resampled to 48 kHz to allow calculation. To fulfill the standard requirements fs should be >=48 kHz.\n",
            "[Warning] Signal resampled to 48 kHz to allow calculation. To fulfill the standard requirements fs should be >=48 kHz.\n"
          ]
        },
        {
          "name": "stderr",
          "output_type": "stream",
          "text": [
            "/Users/mitch/Library/CloudStorage/OneDrive-UniversityCollegeLondon/_Fellowship/Papers - Drafts/C2402_InterNoise_Soundscapy/.venv/lib/python3.11/site-packages/numpy/_core/_methods.py:52: DeprecationWarning: __array_wrap__ must accept context and return_scalar arguments (positionally) in the future. (Deprecated NumPy 2.0)\n",
            "  return umr_sum(a, axis, dtype, out, keepdims, initial, where)\n",
            "/Users/mitch/Library/CloudStorage/OneDrive-UniversityCollegeLondon/_Fellowship/Papers - Drafts/C2402_InterNoise_Soundscapy/.venv/lib/python3.11/site-packages/acoustics/standards/iso_tr_25417_2007.py:125: DeprecationWarning: __array_wrap__ must accept context and return_scalar arguments (positionally) in the future. (Deprecated NumPy 2.0)\n",
            "  return 10.0 * np.log10(sound_exposure(pressure, fs, axis=axis) / reference_sound_exposure)\n",
            "/Users/mitch/Library/CloudStorage/OneDrive-UniversityCollegeLondon/_Fellowship/Papers - Drafts/C2402_InterNoise_Soundscapy/.venv/lib/python3.11/site-packages/acoustics/standards/iso_tr_25417_2007.py:110: DeprecationWarning: __array_wrap__ must accept context and return_scalar arguments (positionally) in the future. (Deprecated NumPy 2.0)\n",
            "  return (pressure**2.0 / fs).sum(axis=axis)\n",
            "/Users/mitch/Library/CloudStorage/OneDrive-UniversityCollegeLondon/_Fellowship/Papers - Drafts/C2402_InterNoise_Soundscapy/.venv/lib/python3.11/site-packages/numpy/_core/_methods.py:52: DeprecationWarning: __array_wrap__ must accept context and return_scalar arguments (positionally) in the future. (Deprecated NumPy 2.0)\n",
            "  return umr_sum(a, axis, dtype, out, keepdims, initial, where)\n",
            "/Users/mitch/Library/CloudStorage/OneDrive-UniversityCollegeLondon/_Fellowship/Papers - Drafts/C2402_InterNoise_Soundscapy/.venv/lib/python3.11/site-packages/acoustics/standards/iso_tr_25417_2007.py:125: DeprecationWarning: __array_wrap__ must accept context and return_scalar arguments (positionally) in the future. (Deprecated NumPy 2.0)\n",
            "  return 10.0 * np.log10(sound_exposure(pressure, fs, axis=axis) / reference_sound_exposure)\n"
          ]
        },
        {
          "name": "stdout",
          "output_type": "stream",
          "text": [
            "[Warning] Signal resampled to 48 kHz to allow calculation. To fulfill the standard requirements fs should be >=48 kHz.\n",
            "[Warning] Signal resampled to 48 kHz to allow calculation. To fulfill the standard requirements fs should be >=48 kHz.\n",
            "[Warning] Signal resampled to 48 kHz to allow calculation. To fulfill the standard requirements fs should be >=48 kHz.\n",
            "[Warning] Signal resampled to 48 kHz to allow calculation. To fulfill the standard requirements fs should be >=48 kHz.\n",
            "[Warning] Signal resampled to 48 kHz to allow calculation. To fulfill the standard requirements fs should be >=48 kHz.\n",
            "[Warning] Signal resampled to 48 kHz to allow calculation. To fulfill the standard requirements fs should be >=48 kHz.\n",
            "[Warning] Signal resampled to 48 kHz to allow calculation. To fulfill the standard requirements fs should be >=48 kHz.\n",
            "[Warning] Signal resampled to 48 kHz to allow calculation. To fulfill the standard requirements fs should be >=48 kHz.\n",
            "[Warning] Signal resampled to 48 kHz to allow calculation. To fulfill the standard requirements fs should be >=48 kHz.\n",
            "[Warning] Signal resampled to 48 kHz to allow calculation. To fulfill the standard requirements fs should be >=48 kHz.\n",
            "[Warning] Signal resampled to 48 kHz to allow calculation. To fulfill the standard requirements fs should be >=48 kHz.\n",
            "[Warning] Signal resampled to 48 kHz to allow calculation. To fulfill the standard requirements fs should be >=48 kHz.\n",
            "[Warning] Signal resampled to 48 kHz to allow calculation. To fulfill the standard requirements fs should be >=48 kHz.\n",
            "[Warning] Signal resampled to 48 kHz to allow calculation. To fulfill the standard requirements fs should be >=48 kHz.\n"
          ]
        },
        {
          "name": "stderr",
          "output_type": "stream",
          "text": [
            "/Users/mitch/Library/CloudStorage/OneDrive-UniversityCollegeLondon/_Fellowship/Papers - Drafts/C2402_InterNoise_Soundscapy/.venv/lib/python3.11/site-packages/maad/features/temporal.py:132: DeprecationWarning: __array_wrap__ must accept context and return_scalar arguments (positionally) in the future. (Deprecated NumPy 2.0)\n",
            "  zero_crosses = np.nonzero(np.diff(s > 0))[0]\n",
            "/Users/mitch/Library/CloudStorage/OneDrive-UniversityCollegeLondon/_Fellowship/Papers - Drafts/C2402_InterNoise_Soundscapy/.venv/lib/python3.11/site-packages/numpy/lib/_function_base_impl.py:1452: DeprecationWarning: __array_wrap__ must accept context and return_scalar arguments (positionally) in the future. (Deprecated NumPy 2.0)\n",
            "  a = op(a[slice1], a[slice2])\n",
            "/Users/mitch/Library/CloudStorage/OneDrive-UniversityCollegeLondon/_Fellowship/Papers - Drafts/C2402_InterNoise_Soundscapy/.venv/lib/python3.11/site-packages/maad/features/temporal.py:132: DeprecationWarning: __array_wrap__ must accept context and return_scalar arguments (positionally) in the future. (Deprecated NumPy 2.0)\n",
            "  zero_crosses = np.nonzero(np.diff(s > 0))[0]\n",
            "/Users/mitch/Library/CloudStorage/OneDrive-UniversityCollegeLondon/_Fellowship/Papers - Drafts/C2402_InterNoise_Soundscapy/.venv/lib/python3.11/site-packages/numpy/lib/_function_base_impl.py:1452: DeprecationWarning: __array_wrap__ must accept context and return_scalar arguments (positionally) in the future. (Deprecated NumPy 2.0)\n",
            "  a = op(a[slice1], a[slice2])\n",
            "/Users/mitch/Library/CloudStorage/OneDrive-UniversityCollegeLondon/_Fellowship/Papers - Drafts/C2402_InterNoise_Soundscapy/.venv/lib/python3.11/site-packages/acoustics/_signal.py:175: DeprecationWarning: __array_wrap__ must accept context and return_scalar arguments (positionally) in the future. (Deprecated NumPy 2.0)\n",
            "  self *= factor\n",
            "/Users/mitch/Library/CloudStorage/OneDrive-UniversityCollegeLondon/_Fellowship/Papers - Drafts/C2402_InterNoise_Soundscapy/.venv/lib/python3.11/site-packages/acoustics/standards/iso_tr_25417_2007.py:110: DeprecationWarning: __array_wrap__ must accept context and return_scalar arguments (positionally) in the future. (Deprecated NumPy 2.0)\n",
            "  return (pressure**2.0 / fs).sum(axis=axis)\n",
            "/Users/mitch/Library/CloudStorage/OneDrive-UniversityCollegeLondon/_Fellowship/Papers - Drafts/C2402_InterNoise_Soundscapy/.venv/lib/python3.11/site-packages/numpy/_core/_methods.py:52: DeprecationWarning: __array_wrap__ must accept context and return_scalar arguments (positionally) in the future. (Deprecated NumPy 2.0)\n",
            "  return umr_sum(a, axis, dtype, out, keepdims, initial, where)\n",
            "/Users/mitch/Library/CloudStorage/OneDrive-UniversityCollegeLondon/_Fellowship/Papers - Drafts/C2402_InterNoise_Soundscapy/.venv/lib/python3.11/site-packages/acoustics/standards/iso_tr_25417_2007.py:125: DeprecationWarning: __array_wrap__ must accept context and return_scalar arguments (positionally) in the future. (Deprecated NumPy 2.0)\n",
            "  return 10.0 * np.log10(sound_exposure(pressure, fs, axis=axis) / reference_sound_exposure)\n"
          ]
        },
        {
          "name": "stdout",
          "output_type": "stream",
          "text": [
            "[Warning] Signal resampled to 48 kHz to allow calculation. To fulfill the standard requirements fs should be >=48 kHz.[Warning] Signal resampled to 48 kHz to allow calculation. To fulfill the standard requirements fs should be >=48 kHz.\n",
            "\n"
          ]
        },
        {
          "name": "stderr",
          "output_type": "stream",
          "text": [
            "/Users/mitch/Library/CloudStorage/OneDrive-UniversityCollegeLondon/_Fellowship/Papers - Drafts/C2402_InterNoise_Soundscapy/.venv/lib/python3.11/site-packages/maad/features/temporal.py:132: DeprecationWarning: __array_wrap__ must accept context and return_scalar arguments (positionally) in the future. (Deprecated NumPy 2.0)\n",
            "  zero_crosses = np.nonzero(np.diff(s > 0))[0]\n",
            "/Users/mitch/Library/CloudStorage/OneDrive-UniversityCollegeLondon/_Fellowship/Papers - Drafts/C2402_InterNoise_Soundscapy/.venv/lib/python3.11/site-packages/numpy/lib/_function_base_impl.py:1452: DeprecationWarning: __array_wrap__ must accept context and return_scalar arguments (positionally) in the future. (Deprecated NumPy 2.0)\n",
            "  a = op(a[slice1], a[slice2])\n",
            "/Users/mitch/Library/CloudStorage/OneDrive-UniversityCollegeLondon/_Fellowship/Papers - Drafts/C2402_InterNoise_Soundscapy/.venv/lib/python3.11/site-packages/maad/features/temporal.py:132: DeprecationWarning: __array_wrap__ must accept context and return_scalar arguments (positionally) in the future. (Deprecated NumPy 2.0)\n",
            "  zero_crosses = np.nonzero(np.diff(s > 0))[0]\n",
            "/Users/mitch/Library/CloudStorage/OneDrive-UniversityCollegeLondon/_Fellowship/Papers - Drafts/C2402_InterNoise_Soundscapy/.venv/lib/python3.11/site-packages/numpy/lib/_function_base_impl.py:1452: DeprecationWarning: __array_wrap__ must accept context and return_scalar arguments (positionally) in the future. (Deprecated NumPy 2.0)\n",
            "  a = op(a[slice1], a[slice2])\n",
            "/Users/mitch/Library/CloudStorage/OneDrive-UniversityCollegeLondon/_Fellowship/Papers - Drafts/C2402_InterNoise_Soundscapy/.venv/lib/python3.11/site-packages/acoustics/_signal.py:175: DeprecationWarning: __array_wrap__ must accept context and return_scalar arguments (positionally) in the future. (Deprecated NumPy 2.0)\n",
            "  self *= factor\n",
            "/Users/mitch/Library/CloudStorage/OneDrive-UniversityCollegeLondon/_Fellowship/Papers - Drafts/C2402_InterNoise_Soundscapy/.venv/lib/python3.11/site-packages/acoustics/standards/iso_tr_25417_2007.py:110: DeprecationWarning: __array_wrap__ must accept context and return_scalar arguments (positionally) in the future. (Deprecated NumPy 2.0)\n",
            "  return (pressure**2.0 / fs).sum(axis=axis)\n",
            "/Users/mitch/Library/CloudStorage/OneDrive-UniversityCollegeLondon/_Fellowship/Papers - Drafts/C2402_InterNoise_Soundscapy/.venv/lib/python3.11/site-packages/numpy/_core/_methods.py:52: DeprecationWarning: __array_wrap__ must accept context and return_scalar arguments (positionally) in the future. (Deprecated NumPy 2.0)\n",
            "  return umr_sum(a, axis, dtype, out, keepdims, initial, where)\n",
            "/Users/mitch/Library/CloudStorage/OneDrive-UniversityCollegeLondon/_Fellowship/Papers - Drafts/C2402_InterNoise_Soundscapy/.venv/lib/python3.11/site-packages/acoustics/standards/iso_tr_25417_2007.py:125: DeprecationWarning: __array_wrap__ must accept context and return_scalar arguments (positionally) in the future. (Deprecated NumPy 2.0)\n",
            "  return 10.0 * np.log10(sound_exposure(pressure, fs, axis=axis) / reference_sound_exposure)\n"
          ]
        },
        {
          "name": "stdout",
          "output_type": "stream",
          "text": [
            "[Warning] Signal resampled to 48 kHz to allow calculation. To fulfill the standard requirements fs should be >=48 kHz.\n",
            "[Warning] Signal resampled to 48 kHz to allow calculation. To fulfill the standard requirements fs should be >=48 kHz.\n"
          ]
        },
        {
          "name": "stderr",
          "output_type": "stream",
          "text": [
            "/Users/mitch/Library/CloudStorage/OneDrive-UniversityCollegeLondon/_Fellowship/Papers - Drafts/C2402_InterNoise_Soundscapy/.venv/lib/python3.11/site-packages/maad/features/temporal.py:132: DeprecationWarning: __array_wrap__ must accept context and return_scalar arguments (positionally) in the future. (Deprecated NumPy 2.0)\n",
            "  zero_crosses = np.nonzero(np.diff(s > 0))[0]\n",
            "/Users/mitch/Library/CloudStorage/OneDrive-UniversityCollegeLondon/_Fellowship/Papers - Drafts/C2402_InterNoise_Soundscapy/.venv/lib/python3.11/site-packages/numpy/lib/_function_base_impl.py:1452: DeprecationWarning: __array_wrap__ must accept context and return_scalar arguments (positionally) in the future. (Deprecated NumPy 2.0)\n",
            "  a = op(a[slice1], a[slice2])\n",
            "/Users/mitch/Library/CloudStorage/OneDrive-UniversityCollegeLondon/_Fellowship/Papers - Drafts/C2402_InterNoise_Soundscapy/.venv/lib/python3.11/site-packages/maad/features/temporal.py:132: DeprecationWarning: __array_wrap__ must accept context and return_scalar arguments (positionally) in the future. (Deprecated NumPy 2.0)\n",
            "  zero_crosses = np.nonzero(np.diff(s > 0))[0]\n",
            "/Users/mitch/Library/CloudStorage/OneDrive-UniversityCollegeLondon/_Fellowship/Papers - Drafts/C2402_InterNoise_Soundscapy/.venv/lib/python3.11/site-packages/numpy/lib/_function_base_impl.py:1452: DeprecationWarning: __array_wrap__ must accept context and return_scalar arguments (positionally) in the future. (Deprecated NumPy 2.0)\n",
            "  a = op(a[slice1], a[slice2])\n",
            "/Users/mitch/Library/CloudStorage/OneDrive-UniversityCollegeLondon/_Fellowship/Papers - Drafts/C2402_InterNoise_Soundscapy/.venv/lib/python3.11/site-packages/acoustics/_signal.py:175: DeprecationWarning: __array_wrap__ must accept context and return_scalar arguments (positionally) in the future. (Deprecated NumPy 2.0)\n",
            "  self *= factor\n",
            "/Users/mitch/Library/CloudStorage/OneDrive-UniversityCollegeLondon/_Fellowship/Papers - Drafts/C2402_InterNoise_Soundscapy/.venv/lib/python3.11/site-packages/acoustics/standards/iso_tr_25417_2007.py:110: DeprecationWarning: __array_wrap__ must accept context and return_scalar arguments (positionally) in the future. (Deprecated NumPy 2.0)\n",
            "  return (pressure**2.0 / fs).sum(axis=axis)\n",
            "/Users/mitch/Library/CloudStorage/OneDrive-UniversityCollegeLondon/_Fellowship/Papers - Drafts/C2402_InterNoise_Soundscapy/.venv/lib/python3.11/site-packages/numpy/_core/_methods.py:52: DeprecationWarning: __array_wrap__ must accept context and return_scalar arguments (positionally) in the future. (Deprecated NumPy 2.0)\n",
            "  return umr_sum(a, axis, dtype, out, keepdims, initial, where)\n",
            "/Users/mitch/Library/CloudStorage/OneDrive-UniversityCollegeLondon/_Fellowship/Papers - Drafts/C2402_InterNoise_Soundscapy/.venv/lib/python3.11/site-packages/acoustics/standards/iso_tr_25417_2007.py:125: DeprecationWarning: __array_wrap__ must accept context and return_scalar arguments (positionally) in the future. (Deprecated NumPy 2.0)\n",
            "  return 10.0 * np.log10(sound_exposure(pressure, fs, axis=axis) / reference_sound_exposure)\n",
            "/Users/mitch/Library/CloudStorage/OneDrive-UniversityCollegeLondon/_Fellowship/Papers - Drafts/C2402_InterNoise_Soundscapy/.venv/lib/python3.11/site-packages/maad/features/temporal.py:132: DeprecationWarning: __array_wrap__ must accept context and return_scalar arguments (positionally) in the future. (Deprecated NumPy 2.0)\n",
            "  zero_crosses = np.nonzero(np.diff(s > 0))[0]\n",
            "/Users/mitch/Library/CloudStorage/OneDrive-UniversityCollegeLondon/_Fellowship/Papers - Drafts/C2402_InterNoise_Soundscapy/.venv/lib/python3.11/site-packages/numpy/lib/_function_base_impl.py:1452: DeprecationWarning: __array_wrap__ must accept context and return_scalar arguments (positionally) in the future. (Deprecated NumPy 2.0)\n",
            "  a = op(a[slice1], a[slice2])\n",
            "/Users/mitch/Library/CloudStorage/OneDrive-UniversityCollegeLondon/_Fellowship/Papers - Drafts/C2402_InterNoise_Soundscapy/.venv/lib/python3.11/site-packages/maad/features/temporal.py:132: DeprecationWarning: __array_wrap__ must accept context and return_scalar arguments (positionally) in the future. (Deprecated NumPy 2.0)\n",
            "  zero_crosses = np.nonzero(np.diff(s > 0))[0]\n",
            "/Users/mitch/Library/CloudStorage/OneDrive-UniversityCollegeLondon/_Fellowship/Papers - Drafts/C2402_InterNoise_Soundscapy/.venv/lib/python3.11/site-packages/numpy/lib/_function_base_impl.py:1452: DeprecationWarning: __array_wrap__ must accept context and return_scalar arguments (positionally) in the future. (Deprecated NumPy 2.0)\n",
            "  a = op(a[slice1], a[slice2])\n",
            "/Users/mitch/Library/CloudStorage/OneDrive-UniversityCollegeLondon/_Fellowship/Papers - Drafts/C2402_InterNoise_Soundscapy/.venv/lib/python3.11/site-packages/acoustics/_signal.py:175: DeprecationWarning: __array_wrap__ must accept context and return_scalar arguments (positionally) in the future. (Deprecated NumPy 2.0)\n",
            "  self *= factor\n",
            "/Users/mitch/Library/CloudStorage/OneDrive-UniversityCollegeLondon/_Fellowship/Papers - Drafts/C2402_InterNoise_Soundscapy/.venv/lib/python3.11/site-packages/acoustics/standards/iso_tr_25417_2007.py:110: DeprecationWarning: __array_wrap__ must accept context and return_scalar arguments (positionally) in the future. (Deprecated NumPy 2.0)\n",
            "  return (pressure**2.0 / fs).sum(axis=axis)\n",
            "/Users/mitch/Library/CloudStorage/OneDrive-UniversityCollegeLondon/_Fellowship/Papers - Drafts/C2402_InterNoise_Soundscapy/.venv/lib/python3.11/site-packages/numpy/_core/_methods.py:52: DeprecationWarning: __array_wrap__ must accept context and return_scalar arguments (positionally) in the future. (Deprecated NumPy 2.0)\n",
            "  return umr_sum(a, axis, dtype, out, keepdims, initial, where)\n",
            "/Users/mitch/Library/CloudStorage/OneDrive-UniversityCollegeLondon/_Fellowship/Papers - Drafts/C2402_InterNoise_Soundscapy/.venv/lib/python3.11/site-packages/acoustics/standards/iso_tr_25417_2007.py:125: DeprecationWarning: __array_wrap__ must accept context and return_scalar arguments (positionally) in the future. (Deprecated NumPy 2.0)\n",
            "  return 10.0 * np.log10(sound_exposure(pressure, fs, axis=axis) / reference_sound_exposure)\n",
            "/Users/mitch/Library/CloudStorage/OneDrive-UniversityCollegeLondon/_Fellowship/Papers - Drafts/C2402_InterNoise_Soundscapy/.venv/lib/python3.11/site-packages/maad/features/temporal.py:132: DeprecationWarning: __array_wrap__ must accept context and return_scalar arguments (positionally) in the future. (Deprecated NumPy 2.0)\n",
            "  zero_crosses = np.nonzero(np.diff(s > 0))[0]\n",
            "/Users/mitch/Library/CloudStorage/OneDrive-UniversityCollegeLondon/_Fellowship/Papers - Drafts/C2402_InterNoise_Soundscapy/.venv/lib/python3.11/site-packages/numpy/lib/_function_base_impl.py:1452: DeprecationWarning: __array_wrap__ must accept context and return_scalar arguments (positionally) in the future. (Deprecated NumPy 2.0)\n",
            "  a = op(a[slice1], a[slice2])\n",
            "/Users/mitch/Library/CloudStorage/OneDrive-UniversityCollegeLondon/_Fellowship/Papers - Drafts/C2402_InterNoise_Soundscapy/.venv/lib/python3.11/site-packages/maad/features/temporal.py:132: DeprecationWarning: __array_wrap__ must accept context and return_scalar arguments (positionally) in the future. (Deprecated NumPy 2.0)\n",
            "  zero_crosses = np.nonzero(np.diff(s > 0))[0]\n",
            "/Users/mitch/Library/CloudStorage/OneDrive-UniversityCollegeLondon/_Fellowship/Papers - Drafts/C2402_InterNoise_Soundscapy/.venv/lib/python3.11/site-packages/numpy/lib/_function_base_impl.py:1452: DeprecationWarning: __array_wrap__ must accept context and return_scalar arguments (positionally) in the future. (Deprecated NumPy 2.0)\n",
            "  a = op(a[slice1], a[slice2])\n",
            "/Users/mitch/Library/CloudStorage/OneDrive-UniversityCollegeLondon/_Fellowship/Papers - Drafts/C2402_InterNoise_Soundscapy/.venv/lib/python3.11/site-packages/acoustics/_signal.py:175: DeprecationWarning: __array_wrap__ must accept context and return_scalar arguments (positionally) in the future. (Deprecated NumPy 2.0)\n",
            "  self *= factor\n",
            "/Users/mitch/Library/CloudStorage/OneDrive-UniversityCollegeLondon/_Fellowship/Papers - Drafts/C2402_InterNoise_Soundscapy/.venv/lib/python3.11/site-packages/acoustics/standards/iso_tr_25417_2007.py:110: DeprecationWarning: __array_wrap__ must accept context and return_scalar arguments (positionally) in the future. (Deprecated NumPy 2.0)\n",
            "  return (pressure**2.0 / fs).sum(axis=axis)\n",
            "/Users/mitch/Library/CloudStorage/OneDrive-UniversityCollegeLondon/_Fellowship/Papers - Drafts/C2402_InterNoise_Soundscapy/.venv/lib/python3.11/site-packages/numpy/_core/_methods.py:52: DeprecationWarning: __array_wrap__ must accept context and return_scalar arguments (positionally) in the future. (Deprecated NumPy 2.0)\n",
            "  return umr_sum(a, axis, dtype, out, keepdims, initial, where)\n",
            "/Users/mitch/Library/CloudStorage/OneDrive-UniversityCollegeLondon/_Fellowship/Papers - Drafts/C2402_InterNoise_Soundscapy/.venv/lib/python3.11/site-packages/acoustics/standards/iso_tr_25417_2007.py:125: DeprecationWarning: __array_wrap__ must accept context and return_scalar arguments (positionally) in the future. (Deprecated NumPy 2.0)\n",
            "  return 10.0 * np.log10(sound_exposure(pressure, fs, axis=axis) / reference_sound_exposure)\n"
          ]
        },
        {
          "name": "stdout",
          "output_type": "stream",
          "text": [
            "[Warning] Signal resampled to 48 kHz to allow calculation. To fulfill the standard requirements fs should be >=48 kHz.\n",
            "[Warning] Signal resampled to 48 kHz to allow calculation. To fulfill the standard requirements fs should be >=48 kHz.\n"
          ]
        },
        {
          "name": "stderr",
          "output_type": "stream",
          "text": [
            "/Users/mitch/Library/CloudStorage/OneDrive-UniversityCollegeLondon/_Fellowship/Papers - Drafts/C2402_InterNoise_Soundscapy/.venv/lib/python3.11/site-packages/maad/features/temporal.py:132: DeprecationWarning: __array_wrap__ must accept context and return_scalar arguments (positionally) in the future. (Deprecated NumPy 2.0)\n",
            "  zero_crosses = np.nonzero(np.diff(s > 0))[0]\n",
            "/Users/mitch/Library/CloudStorage/OneDrive-UniversityCollegeLondon/_Fellowship/Papers - Drafts/C2402_InterNoise_Soundscapy/.venv/lib/python3.11/site-packages/numpy/lib/_function_base_impl.py:1452: DeprecationWarning: __array_wrap__ must accept context and return_scalar arguments (positionally) in the future. (Deprecated NumPy 2.0)\n",
            "  a = op(a[slice1], a[slice2])\n",
            "/Users/mitch/Library/CloudStorage/OneDrive-UniversityCollegeLondon/_Fellowship/Papers - Drafts/C2402_InterNoise_Soundscapy/.venv/lib/python3.11/site-packages/maad/features/temporal.py:132: DeprecationWarning: __array_wrap__ must accept context and return_scalar arguments (positionally) in the future. (Deprecated NumPy 2.0)\n",
            "  zero_crosses = np.nonzero(np.diff(s > 0))[0]\n",
            "/Users/mitch/Library/CloudStorage/OneDrive-UniversityCollegeLondon/_Fellowship/Papers - Drafts/C2402_InterNoise_Soundscapy/.venv/lib/python3.11/site-packages/numpy/lib/_function_base_impl.py:1452: DeprecationWarning: __array_wrap__ must accept context and return_scalar arguments (positionally) in the future. (Deprecated NumPy 2.0)\n",
            "  a = op(a[slice1], a[slice2])\n",
            "/Users/mitch/Library/CloudStorage/OneDrive-UniversityCollegeLondon/_Fellowship/Papers - Drafts/C2402_InterNoise_Soundscapy/.venv/lib/python3.11/site-packages/acoustics/_signal.py:175: DeprecationWarning: __array_wrap__ must accept context and return_scalar arguments (positionally) in the future. (Deprecated NumPy 2.0)\n",
            "  self *= factor\n",
            "/Users/mitch/Library/CloudStorage/OneDrive-UniversityCollegeLondon/_Fellowship/Papers - Drafts/C2402_InterNoise_Soundscapy/.venv/lib/python3.11/site-packages/acoustics/standards/iso_tr_25417_2007.py:110: DeprecationWarning: __array_wrap__ must accept context and return_scalar arguments (positionally) in the future. (Deprecated NumPy 2.0)\n",
            "  return (pressure**2.0 / fs).sum(axis=axis)\n",
            "/Users/mitch/Library/CloudStorage/OneDrive-UniversityCollegeLondon/_Fellowship/Papers - Drafts/C2402_InterNoise_Soundscapy/.venv/lib/python3.11/site-packages/numpy/_core/_methods.py:52: DeprecationWarning: __array_wrap__ must accept context and return_scalar arguments (positionally) in the future. (Deprecated NumPy 2.0)\n",
            "  return umr_sum(a, axis, dtype, out, keepdims, initial, where)\n",
            "/Users/mitch/Library/CloudStorage/OneDrive-UniversityCollegeLondon/_Fellowship/Papers - Drafts/C2402_InterNoise_Soundscapy/.venv/lib/python3.11/site-packages/acoustics/standards/iso_tr_25417_2007.py:125: DeprecationWarning: __array_wrap__ must accept context and return_scalar arguments (positionally) in the future. (Deprecated NumPy 2.0)\n",
            "  return 10.0 * np.log10(sound_exposure(pressure, fs, axis=axis) / reference_sound_exposure)\n"
          ]
        },
        {
          "name": "stdout",
          "output_type": "stream",
          "text": [
            "[Warning] Signal resampled to 48 kHz to allow calculation. To fulfill the standard requirements fs should be >=48 kHz.\n",
            "[Warning] Signal resampled to 48 kHz to allow calculation. To fulfill the standard requirements fs should be >=48 kHz.\n"
          ]
        },
        {
          "name": "stderr",
          "output_type": "stream",
          "text": [
            "/Users/mitch/Library/CloudStorage/OneDrive-UniversityCollegeLondon/_Fellowship/Papers - Drafts/C2402_InterNoise_Soundscapy/.venv/lib/python3.11/site-packages/maad/features/temporal.py:132: DeprecationWarning: __array_wrap__ must accept context and return_scalar arguments (positionally) in the future. (Deprecated NumPy 2.0)\n",
            "  zero_crosses = np.nonzero(np.diff(s > 0))[0]\n",
            "/Users/mitch/Library/CloudStorage/OneDrive-UniversityCollegeLondon/_Fellowship/Papers - Drafts/C2402_InterNoise_Soundscapy/.venv/lib/python3.11/site-packages/numpy/lib/_function_base_impl.py:1452: DeprecationWarning: __array_wrap__ must accept context and return_scalar arguments (positionally) in the future. (Deprecated NumPy 2.0)\n",
            "  a = op(a[slice1], a[slice2])\n",
            "/Users/mitch/Library/CloudStorage/OneDrive-UniversityCollegeLondon/_Fellowship/Papers - Drafts/C2402_InterNoise_Soundscapy/.venv/lib/python3.11/site-packages/maad/features/temporal.py:132: DeprecationWarning: __array_wrap__ must accept context and return_scalar arguments (positionally) in the future. (Deprecated NumPy 2.0)\n",
            "  zero_crosses = np.nonzero(np.diff(s > 0))[0]\n",
            "/Users/mitch/Library/CloudStorage/OneDrive-UniversityCollegeLondon/_Fellowship/Papers - Drafts/C2402_InterNoise_Soundscapy/.venv/lib/python3.11/site-packages/numpy/lib/_function_base_impl.py:1452: DeprecationWarning: __array_wrap__ must accept context and return_scalar arguments (positionally) in the future. (Deprecated NumPy 2.0)\n",
            "  a = op(a[slice1], a[slice2])\n",
            "/Users/mitch/Library/CloudStorage/OneDrive-UniversityCollegeLondon/_Fellowship/Papers - Drafts/C2402_InterNoise_Soundscapy/.venv/lib/python3.11/site-packages/acoustics/_signal.py:175: DeprecationWarning: __array_wrap__ must accept context and return_scalar arguments (positionally) in the future. (Deprecated NumPy 2.0)\n",
            "  self *= factor\n",
            "/Users/mitch/Library/CloudStorage/OneDrive-UniversityCollegeLondon/_Fellowship/Papers - Drafts/C2402_InterNoise_Soundscapy/.venv/lib/python3.11/site-packages/acoustics/standards/iso_tr_25417_2007.py:110: DeprecationWarning: __array_wrap__ must accept context and return_scalar arguments (positionally) in the future. (Deprecated NumPy 2.0)\n",
            "  return (pressure**2.0 / fs).sum(axis=axis)\n",
            "/Users/mitch/Library/CloudStorage/OneDrive-UniversityCollegeLondon/_Fellowship/Papers - Drafts/C2402_InterNoise_Soundscapy/.venv/lib/python3.11/site-packages/numpy/_core/_methods.py:52: DeprecationWarning: __array_wrap__ must accept context and return_scalar arguments (positionally) in the future. (Deprecated NumPy 2.0)\n",
            "  return umr_sum(a, axis, dtype, out, keepdims, initial, where)\n",
            "/Users/mitch/Library/CloudStorage/OneDrive-UniversityCollegeLondon/_Fellowship/Papers - Drafts/C2402_InterNoise_Soundscapy/.venv/lib/python3.11/site-packages/acoustics/standards/iso_tr_25417_2007.py:125: DeprecationWarning: __array_wrap__ must accept context and return_scalar arguments (positionally) in the future. (Deprecated NumPy 2.0)\n",
            "  return 10.0 * np.log10(sound_exposure(pressure, fs, axis=axis) / reference_sound_exposure)\n"
          ]
        },
        {
          "name": "stdout",
          "output_type": "stream",
          "text": [
            "[Warning] Signal resampled to 48 kHz to allow calculation. To fulfill the standard requirements fs should be >=48 kHz.\n",
            "[Warning] Signal resampled to 48 kHz to allow calculation. To fulfill the standard requirements fs should be >=48 kHz.\n"
          ]
        },
        {
          "name": "stderr",
          "output_type": "stream",
          "text": [
            "/Users/mitch/Library/CloudStorage/OneDrive-UniversityCollegeLondon/_Fellowship/Papers - Drafts/C2402_InterNoise_Soundscapy/.venv/lib/python3.11/site-packages/maad/features/temporal.py:132: DeprecationWarning: __array_wrap__ must accept context and return_scalar arguments (positionally) in the future. (Deprecated NumPy 2.0)\n",
            "  zero_crosses = np.nonzero(np.diff(s > 0))[0]\n",
            "/Users/mitch/Library/CloudStorage/OneDrive-UniversityCollegeLondon/_Fellowship/Papers - Drafts/C2402_InterNoise_Soundscapy/.venv/lib/python3.11/site-packages/numpy/lib/_function_base_impl.py:1452: DeprecationWarning: __array_wrap__ must accept context and return_scalar arguments (positionally) in the future. (Deprecated NumPy 2.0)\n",
            "  a = op(a[slice1], a[slice2])\n",
            "/Users/mitch/Library/CloudStorage/OneDrive-UniversityCollegeLondon/_Fellowship/Papers - Drafts/C2402_InterNoise_Soundscapy/.venv/lib/python3.11/site-packages/maad/features/temporal.py:132: DeprecationWarning: __array_wrap__ must accept context and return_scalar arguments (positionally) in the future. (Deprecated NumPy 2.0)\n",
            "  zero_crosses = np.nonzero(np.diff(s > 0))[0]\n",
            "/Users/mitch/Library/CloudStorage/OneDrive-UniversityCollegeLondon/_Fellowship/Papers - Drafts/C2402_InterNoise_Soundscapy/.venv/lib/python3.11/site-packages/numpy/lib/_function_base_impl.py:1452: DeprecationWarning: __array_wrap__ must accept context and return_scalar arguments (positionally) in the future. (Deprecated NumPy 2.0)\n",
            "  a = op(a[slice1], a[slice2])\n",
            "/Users/mitch/Library/CloudStorage/OneDrive-UniversityCollegeLondon/_Fellowship/Papers - Drafts/C2402_InterNoise_Soundscapy/.venv/lib/python3.11/site-packages/maad/features/temporal.py:132: DeprecationWarning: __array_wrap__ must accept context and return_scalar arguments (positionally) in the future. (Deprecated NumPy 2.0)\n",
            "  zero_crosses = np.nonzero(np.diff(s > 0))[0]\n",
            "/Users/mitch/Library/CloudStorage/OneDrive-UniversityCollegeLondon/_Fellowship/Papers - Drafts/C2402_InterNoise_Soundscapy/.venv/lib/python3.11/site-packages/numpy/lib/_function_base_impl.py:1452: DeprecationWarning: __array_wrap__ must accept context and return_scalar arguments (positionally) in the future. (Deprecated NumPy 2.0)\n",
            "  a = op(a[slice1], a[slice2])\n",
            "/Users/mitch/Library/CloudStorage/OneDrive-UniversityCollegeLondon/_Fellowship/Papers - Drafts/C2402_InterNoise_Soundscapy/.venv/lib/python3.11/site-packages/maad/features/temporal.py:132: DeprecationWarning: __array_wrap__ must accept context and return_scalar arguments (positionally) in the future. (Deprecated NumPy 2.0)\n",
            "  zero_crosses = np.nonzero(np.diff(s > 0))[0]\n",
            "/Users/mitch/Library/CloudStorage/OneDrive-UniversityCollegeLondon/_Fellowship/Papers - Drafts/C2402_InterNoise_Soundscapy/.venv/lib/python3.11/site-packages/numpy/lib/_function_base_impl.py:1452: DeprecationWarning: __array_wrap__ must accept context and return_scalar arguments (positionally) in the future. (Deprecated NumPy 2.0)\n",
            "  a = op(a[slice1], a[slice2])\n",
            "/Users/mitch/Library/CloudStorage/OneDrive-UniversityCollegeLondon/_Fellowship/Papers - Drafts/C2402_InterNoise_Soundscapy/.venv/lib/python3.11/site-packages/acoustics/_signal.py:175: DeprecationWarning: __array_wrap__ must accept context and return_scalar arguments (positionally) in the future. (Deprecated NumPy 2.0)\n",
            "  self *= factor\n",
            "/Users/mitch/Library/CloudStorage/OneDrive-UniversityCollegeLondon/_Fellowship/Papers - Drafts/C2402_InterNoise_Soundscapy/.venv/lib/python3.11/site-packages/acoustics/standards/iso_tr_25417_2007.py:110: DeprecationWarning: __array_wrap__ must accept context and return_scalar arguments (positionally) in the future. (Deprecated NumPy 2.0)\n",
            "  return (pressure**2.0 / fs).sum(axis=axis)\n",
            "/Users/mitch/Library/CloudStorage/OneDrive-UniversityCollegeLondon/_Fellowship/Papers - Drafts/C2402_InterNoise_Soundscapy/.venv/lib/python3.11/site-packages/numpy/_core/_methods.py:52: DeprecationWarning: __array_wrap__ must accept context and return_scalar arguments (positionally) in the future. (Deprecated NumPy 2.0)\n",
            "  return umr_sum(a, axis, dtype, out, keepdims, initial, where)\n",
            "/Users/mitch/Library/CloudStorage/OneDrive-UniversityCollegeLondon/_Fellowship/Papers - Drafts/C2402_InterNoise_Soundscapy/.venv/lib/python3.11/site-packages/acoustics/standards/iso_tr_25417_2007.py:125: DeprecationWarning: __array_wrap__ must accept context and return_scalar arguments (positionally) in the future. (Deprecated NumPy 2.0)\n",
            "  return 10.0 * np.log10(sound_exposure(pressure, fs, axis=axis) / reference_sound_exposure)\n"
          ]
        },
        {
          "name": "stdout",
          "output_type": "stream",
          "text": [
            "[Warning] Signal resampled to 48 kHz to allow calculation. To fulfill the standard requirements fs should be >=48 kHz.\n",
            "[Warning] Signal resampled to 48 kHz to allow calculation. To fulfill the standard requirements fs should be >=48 kHz.\n"
          ]
        },
        {
          "name": "stderr",
          "output_type": "stream",
          "text": [
            "/Users/mitch/Library/CloudStorage/OneDrive-UniversityCollegeLondon/_Fellowship/Papers - Drafts/C2402_InterNoise_Soundscapy/.venv/lib/python3.11/site-packages/maad/features/temporal.py:132: DeprecationWarning: __array_wrap__ must accept context and return_scalar arguments (positionally) in the future. (Deprecated NumPy 2.0)\n",
            "  zero_crosses = np.nonzero(np.diff(s > 0))[0]\n",
            "/Users/mitch/Library/CloudStorage/OneDrive-UniversityCollegeLondon/_Fellowship/Papers - Drafts/C2402_InterNoise_Soundscapy/.venv/lib/python3.11/site-packages/numpy/lib/_function_base_impl.py:1452: DeprecationWarning: __array_wrap__ must accept context and return_scalar arguments (positionally) in the future. (Deprecated NumPy 2.0)\n",
            "  a = op(a[slice1], a[slice2])\n",
            "/Users/mitch/Library/CloudStorage/OneDrive-UniversityCollegeLondon/_Fellowship/Papers - Drafts/C2402_InterNoise_Soundscapy/.venv/lib/python3.11/site-packages/maad/features/temporal.py:132: DeprecationWarning: __array_wrap__ must accept context and return_scalar arguments (positionally) in the future. (Deprecated NumPy 2.0)\n",
            "  zero_crosses = np.nonzero(np.diff(s > 0))[0]\n",
            "/Users/mitch/Library/CloudStorage/OneDrive-UniversityCollegeLondon/_Fellowship/Papers - Drafts/C2402_InterNoise_Soundscapy/.venv/lib/python3.11/site-packages/numpy/lib/_function_base_impl.py:1452: DeprecationWarning: __array_wrap__ must accept context and return_scalar arguments (positionally) in the future. (Deprecated NumPy 2.0)\n",
            "  a = op(a[slice1], a[slice2])\n",
            "/Users/mitch/Library/CloudStorage/OneDrive-UniversityCollegeLondon/_Fellowship/Papers - Drafts/C2402_InterNoise_Soundscapy/.venv/lib/python3.11/site-packages/maad/features/temporal.py:132: DeprecationWarning: __array_wrap__ must accept context and return_scalar arguments (positionally) in the future. (Deprecated NumPy 2.0)\n",
            "  zero_crosses = np.nonzero(np.diff(s > 0))[0]\n",
            "/Users/mitch/Library/CloudStorage/OneDrive-UniversityCollegeLondon/_Fellowship/Papers - Drafts/C2402_InterNoise_Soundscapy/.venv/lib/python3.11/site-packages/numpy/lib/_function_base_impl.py:1452: DeprecationWarning: __array_wrap__ must accept context and return_scalar arguments (positionally) in the future. (Deprecated NumPy 2.0)\n",
            "  a = op(a[slice1], a[slice2])\n",
            "/Users/mitch/Library/CloudStorage/OneDrive-UniversityCollegeLondon/_Fellowship/Papers - Drafts/C2402_InterNoise_Soundscapy/.venv/lib/python3.11/site-packages/maad/features/temporal.py:132: DeprecationWarning: __array_wrap__ must accept context and return_scalar arguments (positionally) in the future. (Deprecated NumPy 2.0)\n",
            "  zero_crosses = np.nonzero(np.diff(s > 0))[0]\n",
            "/Users/mitch/Library/CloudStorage/OneDrive-UniversityCollegeLondon/_Fellowship/Papers - Drafts/C2402_InterNoise_Soundscapy/.venv/lib/python3.11/site-packages/numpy/lib/_function_base_impl.py:1452: DeprecationWarning: __array_wrap__ must accept context and return_scalar arguments (positionally) in the future. (Deprecated NumPy 2.0)\n",
            "  a = op(a[slice1], a[slice2])\n",
            "/Users/mitch/Library/CloudStorage/OneDrive-UniversityCollegeLondon/_Fellowship/Papers - Drafts/C2402_InterNoise_Soundscapy/.venv/lib/python3.11/site-packages/maad/features/temporal.py:132: DeprecationWarning: __array_wrap__ must accept context and return_scalar arguments (positionally) in the future. (Deprecated NumPy 2.0)\n",
            "  zero_crosses = np.nonzero(np.diff(s > 0))[0]\n",
            "/Users/mitch/Library/CloudStorage/OneDrive-UniversityCollegeLondon/_Fellowship/Papers - Drafts/C2402_InterNoise_Soundscapy/.venv/lib/python3.11/site-packages/numpy/lib/_function_base_impl.py:1452: DeprecationWarning: __array_wrap__ must accept context and return_scalar arguments (positionally) in the future. (Deprecated NumPy 2.0)\n",
            "  a = op(a[slice1], a[slice2])\n",
            "/Users/mitch/Library/CloudStorage/OneDrive-UniversityCollegeLondon/_Fellowship/Papers - Drafts/C2402_InterNoise_Soundscapy/.venv/lib/python3.11/site-packages/maad/features/temporal.py:132: DeprecationWarning: __array_wrap__ must accept context and return_scalar arguments (positionally) in the future. (Deprecated NumPy 2.0)\n",
            "  zero_crosses = np.nonzero(np.diff(s > 0))[0]\n",
            "/Users/mitch/Library/CloudStorage/OneDrive-UniversityCollegeLondon/_Fellowship/Papers - Drafts/C2402_InterNoise_Soundscapy/.venv/lib/python3.11/site-packages/numpy/lib/_function_base_impl.py:1452: DeprecationWarning: __array_wrap__ must accept context and return_scalar arguments (positionally) in the future. (Deprecated NumPy 2.0)\n",
            "  a = op(a[slice1], a[slice2])\n"
          ]
        },
        {
          "name": "stdout",
          "output_type": "stream",
          "text": [
            "[Warning] Signal resampled to 48 kHz to allow calculation. To fulfill the standard requirements fs should be >=48 kHz.\n",
            "[Warning] Signal resampled to 48 kHz to allow calculation. To fulfill the standard requirements fs should be >=48 kHz.\n",
            "[Warning] Signal resampled to 48 kHz to allow calculation. To fulfill the standard requirements fs should be >=48 kHz.\n",
            "[Warning] Signal resampled to 48 kHz to allow calculation. To fulfill the standard requirements fs should be >=48 kHz.\n",
            "[Warning] Signal resampled to 48 kHz to allow calculation. To fulfill the standard requirements fs should be >=48 kHz.\n",
            "[Warning] Signal resampled to 48 kHz to allow calculation. To fulfill the standard requirements fs should be >=48 kHz.\n",
            "[Warning] Signal resampled to 48 kHz to allow calculation. To fulfill the standard requirements fs should be >=48 kHz.\n",
            "[Warning] Signal resampled to 48 kHz to allow calculation. To fulfill the standard requirements fs should be >=48 kHz.\n",
            "[Warning] Signal resampled to 48 kHz to allow calculation. To fulfill the standard requirements fs should be >=48 kHz.\n",
            "[Warning] Signal resampled to 48 kHz to allow calculation. To fulfill the standard requirements fs should be >=48 kHz.\n",
            "[Warning] Signal resampled to 48 kHz to allow calculation. To fulfill the standard requirements fs should be >=48 kHz.\n",
            "[Warning] Signal resampled to 48 kHz to allow calculation. To fulfill the standard requirements fs should be >=48 kHz.\n"
          ]
        },
        {
          "name": "stderr",
          "output_type": "stream",
          "text": [
            "/Users/mitch/Library/CloudStorage/OneDrive-UniversityCollegeLondon/_Fellowship/Papers - Drafts/C2402_InterNoise_Soundscapy/.venv/lib/python3.11/site-packages/maad/features/temporal.py:132: DeprecationWarning: __array_wrap__ must accept context and return_scalar arguments (positionally) in the future. (Deprecated NumPy 2.0)\n",
            "  zero_crosses = np.nonzero(np.diff(s > 0))[0]\n",
            "/Users/mitch/Library/CloudStorage/OneDrive-UniversityCollegeLondon/_Fellowship/Papers - Drafts/C2402_InterNoise_Soundscapy/.venv/lib/python3.11/site-packages/numpy/lib/_function_base_impl.py:1452: DeprecationWarning: __array_wrap__ must accept context and return_scalar arguments (positionally) in the future. (Deprecated NumPy 2.0)\n",
            "  a = op(a[slice1], a[slice2])\n",
            "/Users/mitch/Library/CloudStorage/OneDrive-UniversityCollegeLondon/_Fellowship/Papers - Drafts/C2402_InterNoise_Soundscapy/.venv/lib/python3.11/site-packages/maad/features/temporal.py:132: DeprecationWarning: __array_wrap__ must accept context and return_scalar arguments (positionally) in the future. (Deprecated NumPy 2.0)\n",
            "  zero_crosses = np.nonzero(np.diff(s > 0))[0]\n",
            "/Users/mitch/Library/CloudStorage/OneDrive-UniversityCollegeLondon/_Fellowship/Papers - Drafts/C2402_InterNoise_Soundscapy/.venv/lib/python3.11/site-packages/numpy/lib/_function_base_impl.py:1452: DeprecationWarning: __array_wrap__ must accept context and return_scalar arguments (positionally) in the future. (Deprecated NumPy 2.0)\n",
            "  a = op(a[slice1], a[slice2])\n",
            "/Users/mitch/Library/CloudStorage/OneDrive-UniversityCollegeLondon/_Fellowship/Papers - Drafts/C2402_InterNoise_Soundscapy/.venv/lib/python3.11/site-packages/maad/features/temporal.py:132: DeprecationWarning: __array_wrap__ must accept context and return_scalar arguments (positionally) in the future. (Deprecated NumPy 2.0)\n",
            "  zero_crosses = np.nonzero(np.diff(s > 0))[0]\n",
            "/Users/mitch/Library/CloudStorage/OneDrive-UniversityCollegeLondon/_Fellowship/Papers - Drafts/C2402_InterNoise_Soundscapy/.venv/lib/python3.11/site-packages/numpy/lib/_function_base_impl.py:1452: DeprecationWarning: __array_wrap__ must accept context and return_scalar arguments (positionally) in the future. (Deprecated NumPy 2.0)\n",
            "  a = op(a[slice1], a[slice2])\n",
            "/Users/mitch/Library/CloudStorage/OneDrive-UniversityCollegeLondon/_Fellowship/Papers - Drafts/C2402_InterNoise_Soundscapy/.venv/lib/python3.11/site-packages/maad/features/temporal.py:132: DeprecationWarning: __array_wrap__ must accept context and return_scalar arguments (positionally) in the future. (Deprecated NumPy 2.0)\n",
            "  zero_crosses = np.nonzero(np.diff(s > 0))[0]\n",
            "/Users/mitch/Library/CloudStorage/OneDrive-UniversityCollegeLondon/_Fellowship/Papers - Drafts/C2402_InterNoise_Soundscapy/.venv/lib/python3.11/site-packages/numpy/lib/_function_base_impl.py:1452: DeprecationWarning: __array_wrap__ must accept context and return_scalar arguments (positionally) in the future. (Deprecated NumPy 2.0)\n",
            "  a = op(a[slice1], a[slice2])\n",
            "/Users/mitch/Library/CloudStorage/OneDrive-UniversityCollegeLondon/_Fellowship/Papers - Drafts/C2402_InterNoise_Soundscapy/.venv/lib/python3.11/site-packages/maad/features/temporal.py:132: DeprecationWarning: __array_wrap__ must accept context and return_scalar arguments (positionally) in the future. (Deprecated NumPy 2.0)\n",
            "  zero_crosses = np.nonzero(np.diff(s > 0))[0]\n",
            "/Users/mitch/Library/CloudStorage/OneDrive-UniversityCollegeLondon/_Fellowship/Papers - Drafts/C2402_InterNoise_Soundscapy/.venv/lib/python3.11/site-packages/numpy/lib/_function_base_impl.py:1452: DeprecationWarning: __array_wrap__ must accept context and return_scalar arguments (positionally) in the future. (Deprecated NumPy 2.0)\n",
            "  a = op(a[slice1], a[slice2])\n",
            "/Users/mitch/Library/CloudStorage/OneDrive-UniversityCollegeLondon/_Fellowship/Papers - Drafts/C2402_InterNoise_Soundscapy/.venv/lib/python3.11/site-packages/maad/features/temporal.py:132: DeprecationWarning: __array_wrap__ must accept context and return_scalar arguments (positionally) in the future. (Deprecated NumPy 2.0)\n",
            "  zero_crosses = np.nonzero(np.diff(s > 0))[0]\n",
            "/Users/mitch/Library/CloudStorage/OneDrive-UniversityCollegeLondon/_Fellowship/Papers - Drafts/C2402_InterNoise_Soundscapy/.venv/lib/python3.11/site-packages/numpy/lib/_function_base_impl.py:1452: DeprecationWarning: __array_wrap__ must accept context and return_scalar arguments (positionally) in the future. (Deprecated NumPy 2.0)\n",
            "  a = op(a[slice1], a[slice2])\n",
            "/Users/mitch/Library/CloudStorage/OneDrive-UniversityCollegeLondon/_Fellowship/Papers - Drafts/C2402_InterNoise_Soundscapy/.venv/lib/python3.11/site-packages/maad/features/temporal.py:132: DeprecationWarning: __array_wrap__ must accept context and return_scalar arguments (positionally) in the future. (Deprecated NumPy 2.0)\n",
            "  zero_crosses = np.nonzero(np.diff(s > 0))[0]\n",
            "/Users/mitch/Library/CloudStorage/OneDrive-UniversityCollegeLondon/_Fellowship/Papers - Drafts/C2402_InterNoise_Soundscapy/.venv/lib/python3.11/site-packages/numpy/lib/_function_base_impl.py:1452: DeprecationWarning: __array_wrap__ must accept context and return_scalar arguments (positionally) in the future. (Deprecated NumPy 2.0)\n",
            "  a = op(a[slice1], a[slice2])\n",
            "/Users/mitch/Library/CloudStorage/OneDrive-UniversityCollegeLondon/_Fellowship/Papers - Drafts/C2402_InterNoise_Soundscapy/.venv/lib/python3.11/site-packages/maad/features/temporal.py:132: DeprecationWarning: __array_wrap__ must accept context and return_scalar arguments (positionally) in the future. (Deprecated NumPy 2.0)\n",
            "  zero_crosses = np.nonzero(np.diff(s > 0))[0]\n",
            "/Users/mitch/Library/CloudStorage/OneDrive-UniversityCollegeLondon/_Fellowship/Papers - Drafts/C2402_InterNoise_Soundscapy/.venv/lib/python3.11/site-packages/numpy/lib/_function_base_impl.py:1452: DeprecationWarning: __array_wrap__ must accept context and return_scalar arguments (positionally) in the future. (Deprecated NumPy 2.0)\n",
            "  a = op(a[slice1], a[slice2])\n",
            "/Users/mitch/Library/CloudStorage/OneDrive-UniversityCollegeLondon/_Fellowship/Papers - Drafts/C2402_InterNoise_Soundscapy/.venv/lib/python3.11/site-packages/maad/features/temporal.py:132: DeprecationWarning: __array_wrap__ must accept context and return_scalar arguments (positionally) in the future. (Deprecated NumPy 2.0)\n",
            "  zero_crosses = np.nonzero(np.diff(s > 0))[0]\n",
            "/Users/mitch/Library/CloudStorage/OneDrive-UniversityCollegeLondon/_Fellowship/Papers - Drafts/C2402_InterNoise_Soundscapy/.venv/lib/python3.11/site-packages/numpy/lib/_function_base_impl.py:1452: DeprecationWarning: __array_wrap__ must accept context and return_scalar arguments (positionally) in the future. (Deprecated NumPy 2.0)\n",
            "  a = op(a[slice1], a[slice2])\n",
            "/Users/mitch/Library/CloudStorage/OneDrive-UniversityCollegeLondon/_Fellowship/Papers - Drafts/C2402_InterNoise_Soundscapy/.venv/lib/python3.11/site-packages/maad/features/temporal.py:132: DeprecationWarning: __array_wrap__ must accept context and return_scalar arguments (positionally) in the future. (Deprecated NumPy 2.0)\n",
            "  zero_crosses = np.nonzero(np.diff(s > 0))[0]\n",
            "/Users/mitch/Library/CloudStorage/OneDrive-UniversityCollegeLondon/_Fellowship/Papers - Drafts/C2402_InterNoise_Soundscapy/.venv/lib/python3.11/site-packages/numpy/lib/_function_base_impl.py:1452: DeprecationWarning: __array_wrap__ must accept context and return_scalar arguments (positionally) in the future. (Deprecated NumPy 2.0)\n",
            "  a = op(a[slice1], a[slice2])\n",
            "/Users/mitch/Library/CloudStorage/OneDrive-UniversityCollegeLondon/_Fellowship/Papers - Drafts/C2402_InterNoise_Soundscapy/.venv/lib/python3.11/site-packages/maad/features/temporal.py:132: DeprecationWarning: __array_wrap__ must accept context and return_scalar arguments (positionally) in the future. (Deprecated NumPy 2.0)\n",
            "  zero_crosses = np.nonzero(np.diff(s > 0))[0]\n",
            "/Users/mitch/Library/CloudStorage/OneDrive-UniversityCollegeLondon/_Fellowship/Papers - Drafts/C2402_InterNoise_Soundscapy/.venv/lib/python3.11/site-packages/numpy/lib/_function_base_impl.py:1452: DeprecationWarning: __array_wrap__ must accept context and return_scalar arguments (positionally) in the future. (Deprecated NumPy 2.0)\n",
            "  a = op(a[slice1], a[slice2])\n",
            "/Users/mitch/Library/CloudStorage/OneDrive-UniversityCollegeLondon/_Fellowship/Papers - Drafts/C2402_InterNoise_Soundscapy/.venv/lib/python3.11/site-packages/maad/features/temporal.py:132: DeprecationWarning: __array_wrap__ must accept context and return_scalar arguments (positionally) in the future. (Deprecated NumPy 2.0)\n",
            "  zero_crosses = np.nonzero(np.diff(s > 0))[0]\n",
            "/Users/mitch/Library/CloudStorage/OneDrive-UniversityCollegeLondon/_Fellowship/Papers - Drafts/C2402_InterNoise_Soundscapy/.venv/lib/python3.11/site-packages/numpy/lib/_function_base_impl.py:1452: DeprecationWarning: __array_wrap__ must accept context and return_scalar arguments (positionally) in the future. (Deprecated NumPy 2.0)\n",
            "  a = op(a[slice1], a[slice2])\n",
            "/Users/mitch/Library/CloudStorage/OneDrive-UniversityCollegeLondon/_Fellowship/Papers - Drafts/C2402_InterNoise_Soundscapy/.venv/lib/python3.11/site-packages/maad/features/temporal.py:132: DeprecationWarning: __array_wrap__ must accept context and return_scalar arguments (positionally) in the future. (Deprecated NumPy 2.0)\n",
            "  zero_crosses = np.nonzero(np.diff(s > 0))[0]\n",
            "/Users/mitch/Library/CloudStorage/OneDrive-UniversityCollegeLondon/_Fellowship/Papers - Drafts/C2402_InterNoise_Soundscapy/.venv/lib/python3.11/site-packages/numpy/lib/_function_base_impl.py:1452: DeprecationWarning: __array_wrap__ must accept context and return_scalar arguments (positionally) in the future. (Deprecated NumPy 2.0)\n",
            "  a = op(a[slice1], a[slice2])\n",
            "/Users/mitch/Library/CloudStorage/OneDrive-UniversityCollegeLondon/_Fellowship/Papers - Drafts/C2402_InterNoise_Soundscapy/.venv/lib/python3.11/site-packages/maad/features/temporal.py:132: DeprecationWarning: __array_wrap__ must accept context and return_scalar arguments (positionally) in the future. (Deprecated NumPy 2.0)\n",
            "  zero_crosses = np.nonzero(np.diff(s > 0))[0]\n",
            "/Users/mitch/Library/CloudStorage/OneDrive-UniversityCollegeLondon/_Fellowship/Papers - Drafts/C2402_InterNoise_Soundscapy/.venv/lib/python3.11/site-packages/numpy/lib/_function_base_impl.py:1452: DeprecationWarning: __array_wrap__ must accept context and return_scalar arguments (positionally) in the future. (Deprecated NumPy 2.0)\n",
            "  a = op(a[slice1], a[slice2])\n",
            "/Users/mitch/Library/CloudStorage/OneDrive-UniversityCollegeLondon/_Fellowship/Papers - Drafts/C2402_InterNoise_Soundscapy/.venv/lib/python3.11/site-packages/maad/features/temporal.py:132: DeprecationWarning: __array_wrap__ must accept context and return_scalar arguments (positionally) in the future. (Deprecated NumPy 2.0)\n",
            "  zero_crosses = np.nonzero(np.diff(s > 0))[0]\n",
            "/Users/mitch/Library/CloudStorage/OneDrive-UniversityCollegeLondon/_Fellowship/Papers - Drafts/C2402_InterNoise_Soundscapy/.venv/lib/python3.11/site-packages/numpy/lib/_function_base_impl.py:1452: DeprecationWarning: __array_wrap__ must accept context and return_scalar arguments (positionally) in the future. (Deprecated NumPy 2.0)\n",
            "  a = op(a[slice1], a[slice2])\n",
            "/Users/mitch/Library/CloudStorage/OneDrive-UniversityCollegeLondon/_Fellowship/Papers - Drafts/C2402_InterNoise_Soundscapy/.venv/lib/python3.11/site-packages/maad/features/temporal.py:132: DeprecationWarning: __array_wrap__ must accept context and return_scalar arguments (positionally) in the future. (Deprecated NumPy 2.0)\n",
            "  zero_crosses = np.nonzero(np.diff(s > 0))[0]\n",
            "/Users/mitch/Library/CloudStorage/OneDrive-UniversityCollegeLondon/_Fellowship/Papers - Drafts/C2402_InterNoise_Soundscapy/.venv/lib/python3.11/site-packages/numpy/lib/_function_base_impl.py:1452: DeprecationWarning: __array_wrap__ must accept context and return_scalar arguments (positionally) in the future. (Deprecated NumPy 2.0)\n",
            "  a = op(a[slice1], a[slice2])\n"
          ]
        },
        {
          "data": {
            "text/html": [
              "<div>\n",
              "<style scoped>\n",
              "    .dataframe tbody tr th:only-of-type {\n",
              "        vertical-align: middle;\n",
              "    }\n",
              "\n",
              "    .dataframe tbody tr th {\n",
              "        vertical-align: top;\n",
              "    }\n",
              "\n",
              "    .dataframe thead th {\n",
              "        text-align: right;\n",
              "    }\n",
              "</style>\n",
              "<table border=\"1\" class=\"dataframe\">\n",
              "  <thead>\n",
              "    <tr style=\"text-align: right;\">\n",
              "      <th></th>\n",
              "      <th></th>\n",
              "      <th>LAeq</th>\n",
              "      <th>LAeq_5</th>\n",
              "      <th>LAeq_10</th>\n",
              "      <th>LAeq_50</th>\n",
              "      <th>LAeq_90</th>\n",
              "      <th>LAeq_95</th>\n",
              "      <th>LAeq_min</th>\n",
              "      <th>LAeq_max</th>\n",
              "      <th>LAeq_kurt</th>\n",
              "      <th>LAeq_skew</th>\n",
              "      <th>...</th>\n",
              "      <th>TFSD</th>\n",
              "      <th>H_Havrda</th>\n",
              "      <th>H_Renyi</th>\n",
              "      <th>H_pairedShannon</th>\n",
              "      <th>H_gamma</th>\n",
              "      <th>H_GiniSimpson</th>\n",
              "      <th>RAOQ</th>\n",
              "      <th>AGI</th>\n",
              "      <th>ROItotal</th>\n",
              "      <th>ROIcover</th>\n",
              "    </tr>\n",
              "    <tr>\n",
              "      <th>Recording</th>\n",
              "      <th>Channel</th>\n",
              "      <th></th>\n",
              "      <th></th>\n",
              "      <th></th>\n",
              "      <th></th>\n",
              "      <th></th>\n",
              "      <th></th>\n",
              "      <th></th>\n",
              "      <th></th>\n",
              "      <th></th>\n",
              "      <th></th>\n",
              "      <th></th>\n",
              "      <th></th>\n",
              "      <th></th>\n",
              "      <th></th>\n",
              "      <th></th>\n",
              "      <th></th>\n",
              "      <th></th>\n",
              "      <th></th>\n",
              "      <th></th>\n",
              "      <th></th>\n",
              "      <th></th>\n",
              "    </tr>\n",
              "  </thead>\n",
              "  <tbody>\n",
              "    <tr>\n",
              "      <th rowspan=\"2\" valign=\"top\">CT108</th>\n",
              "      <th>Left</th>\n",
              "      <td>70.589507</td>\n",
              "      <td>74.558756</td>\n",
              "      <td>73.843937</td>\n",
              "      <td>69.525786</td>\n",
              "      <td>64.824693</td>\n",
              "      <td>64.187174</td>\n",
              "      <td>62.768378</td>\n",
              "      <td>75.729902</td>\n",
              "      <td>-0.672714</td>\n",
              "      <td>-0.097663</td>\n",
              "      <td>...</td>\n",
              "      <td>0.601720</td>\n",
              "      <td>0.315433</td>\n",
              "      <td>1.462151</td>\n",
              "      <td>3.302710</td>\n",
              "      <td>1379.622896</td>\n",
              "      <td>0.816123</td>\n",
              "      <td>0.017529</td>\n",
              "      <td>1.460654</td>\n",
              "      <td>22</td>\n",
              "      <td>0.849617</td>\n",
              "    </tr>\n",
              "    <tr>\n",
              "      <th>Right</th>\n",
              "      <td>70.112106</td>\n",
              "      <td>73.867805</td>\n",
              "      <td>73.206158</td>\n",
              "      <td>69.500252</td>\n",
              "      <td>63.767889</td>\n",
              "      <td>63.381380</td>\n",
              "      <td>62.296449</td>\n",
              "      <td>76.077951</td>\n",
              "      <td>-1.033197</td>\n",
              "      <td>-0.220893</td>\n",
              "      <td>...</td>\n",
              "      <td>0.597461</td>\n",
              "      <td>0.312580</td>\n",
              "      <td>1.388225</td>\n",
              "      <td>3.167239</td>\n",
              "      <td>1171.735670</td>\n",
              "      <td>0.799022</td>\n",
              "      <td>0.013242</td>\n",
              "      <td>1.623013</td>\n",
              "      <td>5</td>\n",
              "      <td>1.254925</td>\n",
              "    </tr>\n",
              "    <tr>\n",
              "      <th rowspan=\"2\" valign=\"top\">CT107</th>\n",
              "      <th>Left</th>\n",
              "      <td>68.044340</td>\n",
              "      <td>72.248420</td>\n",
              "      <td>71.395037</td>\n",
              "      <td>66.199040</td>\n",
              "      <td>62.448782</td>\n",
              "      <td>61.533067</td>\n",
              "      <td>60.039913</td>\n",
              "      <td>76.177939</td>\n",
              "      <td>-0.535311</td>\n",
              "      <td>0.386803</td>\n",
              "      <td>...</td>\n",
              "      <td>0.596434</td>\n",
              "      <td>0.306238</td>\n",
              "      <td>1.254894</td>\n",
              "      <td>3.044223</td>\n",
              "      <td>1338.067296</td>\n",
              "      <td>0.770212</td>\n",
              "      <td>0.014416</td>\n",
              "      <td>1.821029</td>\n",
              "      <td>31</td>\n",
              "      <td>3.092858</td>\n",
              "    </tr>\n",
              "    <tr>\n",
              "      <th>Right</th>\n",
              "      <td>66.957640</td>\n",
              "      <td>71.154329</td>\n",
              "      <td>69.520778</td>\n",
              "      <td>65.567530</td>\n",
              "      <td>62.737097</td>\n",
              "      <td>62.105325</td>\n",
              "      <td>59.427035</td>\n",
              "      <td>73.699931</td>\n",
              "      <td>-0.229152</td>\n",
              "      <td>0.490734</td>\n",
              "      <td>...</td>\n",
              "      <td>0.600826</td>\n",
              "      <td>0.301908</td>\n",
              "      <td>1.180762</td>\n",
              "      <td>2.863631</td>\n",
              "      <td>875.440353</td>\n",
              "      <td>0.747898</td>\n",
              "      <td>0.008257</td>\n",
              "      <td>1.578739</td>\n",
              "      <td>45</td>\n",
              "      <td>2.396588</td>\n",
              "    </tr>\n",
              "    <tr>\n",
              "      <th>CT101</th>\n",
              "      <th>Left</th>\n",
              "      <td>68.875703</td>\n",
              "      <td>72.257301</td>\n",
              "      <td>71.154342</td>\n",
              "      <td>68.113339</td>\n",
              "      <td>63.375091</td>\n",
              "      <td>62.366533</td>\n",
              "      <td>60.560166</td>\n",
              "      <td>77.382651</td>\n",
              "      <td>0.272011</td>\n",
              "      <td>-0.013877</td>\n",
              "      <td>...</td>\n",
              "      <td>0.596465</td>\n",
              "      <td>0.306220</td>\n",
              "      <td>1.254552</td>\n",
              "      <td>2.981413</td>\n",
              "      <td>1004.342366</td>\n",
              "      <td>0.767638</td>\n",
              "      <td>0.012133</td>\n",
              "      <td>1.502836</td>\n",
              "      <td>38</td>\n",
              "      <td>1.794776</td>\n",
              "    </tr>\n",
              "  </tbody>\n",
              "</table>\n",
              "<p>5 rows × 131 columns</p>\n",
              "</div>"
            ],
            "text/plain": [
              "                        LAeq     LAeq_5    LAeq_10    LAeq_50    LAeq_90  \\\n",
              "Recording Channel                                                          \n",
              "CT108     Left     70.589507  74.558756  73.843937  69.525786  64.824693   \n",
              "          Right    70.112106  73.867805  73.206158  69.500252  63.767889   \n",
              "CT107     Left     68.044340  72.248420  71.395037  66.199040  62.448782   \n",
              "          Right    66.957640  71.154329  69.520778  65.567530  62.737097   \n",
              "CT101     Left     68.875703  72.257301  71.154342  68.113339  63.375091   \n",
              "\n",
              "                     LAeq_95   LAeq_min   LAeq_max  LAeq_kurt  LAeq_skew  ...  \\\n",
              "Recording Channel                                                         ...   \n",
              "CT108     Left     64.187174  62.768378  75.729902  -0.672714  -0.097663  ...   \n",
              "          Right    63.381380  62.296449  76.077951  -1.033197  -0.220893  ...   \n",
              "CT107     Left     61.533067  60.039913  76.177939  -0.535311   0.386803  ...   \n",
              "          Right    62.105325  59.427035  73.699931  -0.229152   0.490734  ...   \n",
              "CT101     Left     62.366533  60.560166  77.382651   0.272011  -0.013877  ...   \n",
              "\n",
              "                       TFSD  H_Havrda   H_Renyi  H_pairedShannon      H_gamma  \\\n",
              "Recording Channel                                                               \n",
              "CT108     Left     0.601720  0.315433  1.462151         3.302710  1379.622896   \n",
              "          Right    0.597461  0.312580  1.388225         3.167239  1171.735670   \n",
              "CT107     Left     0.596434  0.306238  1.254894         3.044223  1338.067296   \n",
              "          Right    0.600826  0.301908  1.180762         2.863631   875.440353   \n",
              "CT101     Left     0.596465  0.306220  1.254552         2.981413  1004.342366   \n",
              "\n",
              "                   H_GiniSimpson      RAOQ       AGI  ROItotal  ROIcover  \n",
              "Recording Channel                                                         \n",
              "CT108     Left          0.816123  0.017529  1.460654        22  0.849617  \n",
              "          Right         0.799022  0.013242  1.623013         5  1.254925  \n",
              "CT107     Left          0.770212  0.014416  1.821029        31  3.092858  \n",
              "          Right         0.747898  0.008257  1.578739        45  2.396588  \n",
              "CT101     Left          0.767638  0.012133  1.502836        38  1.794776  \n",
              "\n",
              "[5 rows x 131 columns]"
            ]
          },
          "execution_count": 13,
          "metadata": {},
          "output_type": "execute_result"
        }
      ],
      "source": [
        "from soundscapy.audio import AudioAnalysis\n",
        "\n",
        "wav_folder = Path(\"data\")\n",
        "\n",
        "# Initialize the AudioAnalysis object with default settings\n",
        "analysis = AudioAnalysis()\n",
        "\n",
        "# Analyse a folder of recordings\n",
        "folder_results = analysis.analyze_folder(wav_folder, calibration_file=\"data/Levels.json\")\n",
        "\n",
        "# Print the results\n",
        "folder_results.head()"
      ]
    },
    {
      "cell_type": "code",
      "execution_count": 22,
      "metadata": {},
      "outputs": [
        {
          "name": "stdout",
          "output_type": "stream",
          "text": [
            "Processed in 918.23 seconds\n",
            "Results shape: (40, 131)\n"
          ]
        }
      ],
      "source": [
        "#| echo: false\n",
        "stop = time.perf_counter()\n",
        "print(f\"Processed in {stop - start:0.2f} seconds\")\n",
        "print(f\"Results shape: {folder_results.shape}\")"
      ]
    },
    {
      "cell_type": "markdown",
      "metadata": {},
      "source": [
        ":::\n",
        "::: {.column width=\"50%\"}\n",
        "- Unified output format\n",
        "- Parallel processing capabilities\n",
        "- Significant performance improvements\n",
        "- Ideal for large-scale soundscape studies\n",
        ":::\n",
        ":::\n",
        "\n",
        "::: {.notes}\n",
        "Explain the benefits of batch processing in Soundscapy.\n",
        "Highlight the performance improvements, especially for large datasets.\n",
        "Discuss how this facilitates large-scale soundscape studies and practical applications.\n",
        ":::\n",
        "\n",
        "## Customization and Flexibility {.smaller}\n",
        "\n",
        "::: {.columns}\n",
        "::: {.column width=\"50%\"}\n",
        "- Customizable analysis settings\n",
        "- Support for various data formats\n",
        "- Extensible architecture for adding new metrics\n",
        "- Integration with popular data science tools (pandas, matplotlib)\n",
        ":::\n",
        "::: {.column width=\"50%\"}\n",
        "```{{python}}\n",
        "# Customize analysis settings\n",
        "custom_settings = sspy.AnalysisSettings.from_yaml(\"custom_settings.yaml\")\n",
        "\n",
        "# Add a new metric\n",
        "@sspy.register_metric\n",
        "def custom_metric(signal):\n",
        "    # Implement custom metric calculation\n",
        "    pass\n",
        "\n",
        "# Use with pandas and matplotlib\n",
        "import pandas as pd\n",
        "import matplotlib.pyplot as plt\n",
        "\n",
        "# Example visualization\n",
        "results_df = pd.DataFrame(results)\n",
        "plt.figure(figsize=(10, 6))\n",
        "plt.scatter(results_df['Loudness'], results_df['Sharpness'])\n",
        "plt.xlabel('Loudness (sone)')\n",
        "plt.ylabel('Sharpness (acum)')\n",
        "plt.title('Loudness vs Sharpness')\n",
        "plt.show()\n",
        "```\n",
        ":::\n",
        ":::\n",
        "\n",
        "::: {.notes}\n",
        "Discuss the flexibility of Soundscapy in terms of customization.\n",
        "Highlight how it can be integrated into existing workflows.\n",
        "Mention the potential for extending the package with new metrics or analysis methods.\n",
        ":::\n",
        "\n",
        "## References"
      ]
    }
  ],
  "metadata": {
    "kernelspec": {
      "display_name": "Python 3 (ipykernel)",
      "language": "python",
      "name": "python3",
      "path": "/Users/mitch/Library/CloudStorage/OneDrive-UniversityCollegeLondon/_Fellowship/Papers - Drafts/C2402_InterNoise_Soundscapy/.venv/share/jupyter/kernels/python3"
    },
    "language_info": {
      "codemirror_mode": {
        "name": "ipython",
        "version": 3
      },
      "file_extension": ".py",
      "mimetype": "text/x-python",
      "name": "python",
      "nbconvert_exporter": "python",
      "pygments_lexer": "ipython3",
      "version": "3.11.8"
    }
  },
  "nbformat": 4,
  "nbformat_minor": 4
}
